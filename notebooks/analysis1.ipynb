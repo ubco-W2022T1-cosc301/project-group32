{
 "cells": [
  {
   "cell_type": "markdown",
   "metadata": {},
   "source": [
    "Jingtao Yang"
   ]
  },
  {
   "cell_type": "markdown",
   "metadata": {},
   "source": [
    "My research question is \"Which champion is the most commonly used?\""
   ]
  },
  {
   "cell_type": "code",
   "execution_count": 2,
   "metadata": {},
   "outputs": [],
   "source": [
    "import pandas as pd\n",
    "data=pd.read_csv(\"../data/raw/TFT_Master_MatchData.csv\")"
   ]
  },
  {
   "cell_type": "code",
   "execution_count": 3,
   "metadata": {},
   "outputs": [
    {
     "data": {
      "text/html": [
       "<div>\n",
       "<style scoped>\n",
       "    .dataframe tbody tr th:only-of-type {\n",
       "        vertical-align: middle;\n",
       "    }\n",
       "\n",
       "    .dataframe tbody tr th {\n",
       "        vertical-align: top;\n",
       "    }\n",
       "\n",
       "    .dataframe thead th {\n",
       "        text-align: right;\n",
       "    }\n",
       "</style>\n",
       "<table border=\"1\" class=\"dataframe\">\n",
       "  <thead>\n",
       "    <tr style=\"text-align: right;\">\n",
       "      <th></th>\n",
       "      <th>gameId</th>\n",
       "      <th>gameDuration</th>\n",
       "      <th>level</th>\n",
       "      <th>lastRound</th>\n",
       "      <th>Ranked</th>\n",
       "      <th>ingameDuration</th>\n",
       "      <th>combination</th>\n",
       "      <th>champion</th>\n",
       "    </tr>\n",
       "  </thead>\n",
       "  <tbody>\n",
       "    <tr>\n",
       "      <th>0</th>\n",
       "      <td>KR_4242528808</td>\n",
       "      <td>2233.449951</td>\n",
       "      <td>8</td>\n",
       "      <td>37</td>\n",
       "      <td>1</td>\n",
       "      <td>2225.243408</td>\n",
       "      <td>{'DarkStar': 2, 'Protector': 4, 'Rebel': 1, 'S...</td>\n",
       "      <td>{'JarvanIV': {'items': [12], 'star': 3}, 'Sona...</td>\n",
       "    </tr>\n",
       "    <tr>\n",
       "      <th>1</th>\n",
       "      <td>KR_4242528808</td>\n",
       "      <td>2233.449951</td>\n",
       "      <td>9</td>\n",
       "      <td>37</td>\n",
       "      <td>2</td>\n",
       "      <td>2225.243408</td>\n",
       "      <td>{'Blaster': 2, 'Chrono': 1, 'Cybernetic': 1, '...</td>\n",
       "      <td>{'Malphite': {'items': [], 'star': 2}, 'Blitzc...</td>\n",
       "    </tr>\n",
       "    <tr>\n",
       "      <th>2</th>\n",
       "      <td>KR_4242528808</td>\n",
       "      <td>2233.449951</td>\n",
       "      <td>8</td>\n",
       "      <td>35</td>\n",
       "      <td>3</td>\n",
       "      <td>2138.763428</td>\n",
       "      <td>{'Blaster': 3, 'Chrono': 2, 'Cybernetic': 1, '...</td>\n",
       "      <td>{'Malphite': {'items': [], 'star': 2}, 'Blitzc...</td>\n",
       "    </tr>\n",
       "    <tr>\n",
       "      <th>3</th>\n",
       "      <td>KR_4242528808</td>\n",
       "      <td>2233.449951</td>\n",
       "      <td>8</td>\n",
       "      <td>33</td>\n",
       "      <td>4</td>\n",
       "      <td>2003.865967</td>\n",
       "      <td>{'Chrono': 2, 'Cybernetic': 2, 'DarkStar': 2, ...</td>\n",
       "      <td>{'Leona': {'items': [], 'star': 2}, 'Mordekais...</td>\n",
       "    </tr>\n",
       "    <tr>\n",
       "      <th>4</th>\n",
       "      <td>KR_4242528808</td>\n",
       "      <td>2233.449951</td>\n",
       "      <td>7</td>\n",
       "      <td>31</td>\n",
       "      <td>5</td>\n",
       "      <td>1885.395386</td>\n",
       "      <td>{'Blaster': 1, 'DarkStar': 1, 'Demolitionist':...</td>\n",
       "      <td>{'KhaZix': {'items': [], 'star': 2}, 'KaiSa': ...</td>\n",
       "    </tr>\n",
       "  </tbody>\n",
       "</table>\n",
       "</div>"
      ],
      "text/plain": [
       "          gameId  gameDuration  level  lastRound  Ranked  ingameDuration  \\\n",
       "0  KR_4242528808   2233.449951      8         37       1     2225.243408   \n",
       "1  KR_4242528808   2233.449951      9         37       2     2225.243408   \n",
       "2  KR_4242528808   2233.449951      8         35       3     2138.763428   \n",
       "3  KR_4242528808   2233.449951      8         33       4     2003.865967   \n",
       "4  KR_4242528808   2233.449951      7         31       5     1885.395386   \n",
       "\n",
       "                                         combination  \\\n",
       "0  {'DarkStar': 2, 'Protector': 4, 'Rebel': 1, 'S...   \n",
       "1  {'Blaster': 2, 'Chrono': 1, 'Cybernetic': 1, '...   \n",
       "2  {'Blaster': 3, 'Chrono': 2, 'Cybernetic': 1, '...   \n",
       "3  {'Chrono': 2, 'Cybernetic': 2, 'DarkStar': 2, ...   \n",
       "4  {'Blaster': 1, 'DarkStar': 1, 'Demolitionist':...   \n",
       "\n",
       "                                            champion  \n",
       "0  {'JarvanIV': {'items': [12], 'star': 3}, 'Sona...  \n",
       "1  {'Malphite': {'items': [], 'star': 2}, 'Blitzc...  \n",
       "2  {'Malphite': {'items': [], 'star': 2}, 'Blitzc...  \n",
       "3  {'Leona': {'items': [], 'star': 2}, 'Mordekais...  \n",
       "4  {'KhaZix': {'items': [], 'star': 2}, 'KaiSa': ...  "
      ]
     },
     "execution_count": 3,
     "metadata": {},
     "output_type": "execute_result"
    }
   ],
   "source": [
    "data.head()"
   ]
  },
  {
   "cell_type": "code",
   "execution_count": null,
   "metadata": {},
   "outputs": [],
   "source": []
  }
 ],
 "metadata": {
  "kernelspec": {
   "display_name": "Python 3 (ipykernel)",
   "language": "python",
   "name": "python3"
  },
  "language_info": {
   "codemirror_mode": {
    "name": "ipython",
    "version": 3
   },
   "file_extension": ".py",
   "mimetype": "text/x-python",
   "name": "python",
   "nbconvert_exporter": "python",
   "pygments_lexer": "ipython3",
   "version": "3.9.12"
  }
 },
 "nbformat": 4,
 "nbformat_minor": 4
}
