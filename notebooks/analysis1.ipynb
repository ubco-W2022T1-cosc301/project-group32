{
 "cells": [
  {
   "cell_type": "markdown",
   "metadata": {},
   "source": [
    "Jingtao Yang"
   ]
  },
  {
   "cell_type": "markdown",
   "metadata": {},
   "source": [
    "My research question is \"Which champion is the most commonly used?\""
   ]
  },
  {
   "cell_type": "code",
   "execution_count": null,
   "metadata": {},
   "outputs": [],
   "source": [
    "import pandas as pd\n",
    "import seaborn as sns\n",
    "import matplotlib.pyplot as plt\n",
    "data=pd.read_csv(\"../data/raw/TFT_Master_MatchData.csv\")"
   ]
  },
  {
   "cell_type": "code",
   "execution_count": null,
   "metadata": {},
   "outputs": [
    {
     "data": {
      "text/html": [
       "<div>\n",
       "<style scoped>\n",
       "    .dataframe tbody tr th:only-of-type {\n",
       "        vertical-align: middle;\n",
       "    }\n",
       "\n",
       "    .dataframe tbody tr th {\n",
       "        vertical-align: top;\n",
       "    }\n",
       "\n",
       "    .dataframe thead th {\n",
       "        text-align: right;\n",
       "    }\n",
       "</style>\n",
       "<table border=\"1\" class=\"dataframe\">\n",
       "  <thead>\n",
       "    <tr style=\"text-align: right;\">\n",
       "      <th></th>\n",
       "      <th>gameId</th>\n",
       "      <th>gameDuration</th>\n",
       "      <th>level</th>\n",
       "      <th>lastRound</th>\n",
       "      <th>Ranked</th>\n",
       "      <th>ingameDuration</th>\n",
       "      <th>combination</th>\n",
       "      <th>champion</th>\n",
       "    </tr>\n",
       "  </thead>\n",
       "  <tbody>\n",
       "    <tr>\n",
       "      <th>0</th>\n",
       "      <td>KR_4242528808</td>\n",
       "      <td>2233.449951</td>\n",
       "      <td>8</td>\n",
       "      <td>37</td>\n",
       "      <td>1</td>\n",
       "      <td>2225.243408</td>\n",
       "      <td>{'DarkStar': 2, 'Protector': 4, 'Rebel': 1, 'S...</td>\n",
       "      <td>{'JarvanIV': {'items': [12], 'star': 3}, 'Sona...</td>\n",
       "    </tr>\n",
       "    <tr>\n",
       "      <th>1</th>\n",
       "      <td>KR_4242528808</td>\n",
       "      <td>2233.449951</td>\n",
       "      <td>9</td>\n",
       "      <td>37</td>\n",
       "      <td>2</td>\n",
       "      <td>2225.243408</td>\n",
       "      <td>{'Blaster': 2, 'Chrono': 1, 'Cybernetic': 1, '...</td>\n",
       "      <td>{'Malphite': {'items': [], 'star': 2}, 'Blitzc...</td>\n",
       "    </tr>\n",
       "    <tr>\n",
       "      <th>2</th>\n",
       "      <td>KR_4242528808</td>\n",
       "      <td>2233.449951</td>\n",
       "      <td>8</td>\n",
       "      <td>35</td>\n",
       "      <td>3</td>\n",
       "      <td>2138.763428</td>\n",
       "      <td>{'Blaster': 3, 'Chrono': 2, 'Cybernetic': 1, '...</td>\n",
       "      <td>{'Malphite': {'items': [], 'star': 2}, 'Blitzc...</td>\n",
       "    </tr>\n",
       "    <tr>\n",
       "      <th>3</th>\n",
       "      <td>KR_4242528808</td>\n",
       "      <td>2233.449951</td>\n",
       "      <td>8</td>\n",
       "      <td>33</td>\n",
       "      <td>4</td>\n",
       "      <td>2003.865967</td>\n",
       "      <td>{'Chrono': 2, 'Cybernetic': 2, 'DarkStar': 2, ...</td>\n",
       "      <td>{'Leona': {'items': [], 'star': 2}, 'Mordekais...</td>\n",
       "    </tr>\n",
       "    <tr>\n",
       "      <th>4</th>\n",
       "      <td>KR_4242528808</td>\n",
       "      <td>2233.449951</td>\n",
       "      <td>7</td>\n",
       "      <td>31</td>\n",
       "      <td>5</td>\n",
       "      <td>1885.395386</td>\n",
       "      <td>{'Blaster': 1, 'DarkStar': 1, 'Demolitionist':...</td>\n",
       "      <td>{'KhaZix': {'items': [], 'star': 2}, 'KaiSa': ...</td>\n",
       "    </tr>\n",
       "  </tbody>\n",
       "</table>\n",
       "</div>"
      ],
      "text/plain": [
       "          gameId  gameDuration  level  lastRound  Ranked  ingameDuration  \\\n",
       "0  KR_4242528808   2233.449951      8         37       1     2225.243408   \n",
       "1  KR_4242528808   2233.449951      9         37       2     2225.243408   \n",
       "2  KR_4242528808   2233.449951      8         35       3     2138.763428   \n",
       "3  KR_4242528808   2233.449951      8         33       4     2003.865967   \n",
       "4  KR_4242528808   2233.449951      7         31       5     1885.395386   \n",
       "\n",
       "                                         combination  \\\n",
       "0  {'DarkStar': 2, 'Protector': 4, 'Rebel': 1, 'S...   \n",
       "1  {'Blaster': 2, 'Chrono': 1, 'Cybernetic': 1, '...   \n",
       "2  {'Blaster': 3, 'Chrono': 2, 'Cybernetic': 1, '...   \n",
       "3  {'Chrono': 2, 'Cybernetic': 2, 'DarkStar': 2, ...   \n",
       "4  {'Blaster': 1, 'DarkStar': 1, 'Demolitionist':...   \n",
       "\n",
       "                                            champion  \n",
       "0  {'JarvanIV': {'items': [12], 'star': 3}, 'Sona...  \n",
       "1  {'Malphite': {'items': [], 'star': 2}, 'Blitzc...  \n",
       "2  {'Malphite': {'items': [], 'star': 2}, 'Blitzc...  \n",
       "3  {'Leona': {'items': [], 'star': 2}, 'Mordekais...  \n",
       "4  {'KhaZix': {'items': [], 'star': 2}, 'KaiSa': ...  "
      ]
     },
     "execution_count": null,
     "metadata": {},
     "output_type": "execute_result"
    }
   ],
   "source": [
    "data.head()"
   ]
  },
  {
   "cell_type": "code",
   "execution_count": null,
   "metadata": {},
   "outputs": [
    {
     "data": {
      "text/plain": [
       "(79999, 8)"
      ]
     },
     "execution_count": null,
     "metadata": {},
     "output_type": "execute_result"
    }
   ],
   "source": [
    "#Import Libraries\n",
    "import numpy as np\n",
    "data.shape"
   ]
  },
  {
   "cell_type": "code",
   "execution_count": null,
   "metadata": {},
   "outputs": [
    {
     "data": {
      "text/html": [
       "<div>\n",
       "<style scoped>\n",
       "    .dataframe tbody tr th:only-of-type {\n",
       "        vertical-align: middle;\n",
       "    }\n",
       "\n",
       "    .dataframe tbody tr th {\n",
       "        vertical-align: top;\n",
       "    }\n",
       "\n",
       "    .dataframe thead th {\n",
       "        text-align: right;\n",
       "    }\n",
       "</style>\n",
       "<table border=\"1\" class=\"dataframe\">\n",
       "  <thead>\n",
       "    <tr style=\"text-align: right;\">\n",
       "      <th></th>\n",
       "      <th>gameId</th>\n",
       "      <th>gameDuration</th>\n",
       "      <th>level</th>\n",
       "      <th>lastRound</th>\n",
       "      <th>Ranked</th>\n",
       "      <th>ingameDuration</th>\n",
       "      <th>combination</th>\n",
       "      <th>champion</th>\n",
       "    </tr>\n",
       "  </thead>\n",
       "  <tbody>\n",
       "    <tr>\n",
       "      <th>0</th>\n",
       "      <td>KR_4242528808</td>\n",
       "      <td>2233.449951</td>\n",
       "      <td>8</td>\n",
       "      <td>37</td>\n",
       "      <td>1</td>\n",
       "      <td>2225.243408</td>\n",
       "      <td>{'DarkStar': 2, 'Protector': 4, 'Rebel': 1, 'S...</td>\n",
       "      <td>{'JarvanIV': {'items': [12], 'star': 3}, 'Sona...</td>\n",
       "    </tr>\n",
       "    <tr>\n",
       "      <th>1</th>\n",
       "      <td>KR_4242528808</td>\n",
       "      <td>2233.449951</td>\n",
       "      <td>9</td>\n",
       "      <td>37</td>\n",
       "      <td>2</td>\n",
       "      <td>2225.243408</td>\n",
       "      <td>{'Blaster': 2, 'Chrono': 1, 'Cybernetic': 1, '...</td>\n",
       "      <td>{'Malphite': {'items': [], 'star': 2}, 'Blitzc...</td>\n",
       "    </tr>\n",
       "    <tr>\n",
       "      <th>2</th>\n",
       "      <td>KR_4242528808</td>\n",
       "      <td>2233.449951</td>\n",
       "      <td>8</td>\n",
       "      <td>35</td>\n",
       "      <td>3</td>\n",
       "      <td>2138.763428</td>\n",
       "      <td>{'Blaster': 3, 'Chrono': 2, 'Cybernetic': 1, '...</td>\n",
       "      <td>{'Malphite': {'items': [], 'star': 2}, 'Blitzc...</td>\n",
       "    </tr>\n",
       "    <tr>\n",
       "      <th>3</th>\n",
       "      <td>KR_4242528808</td>\n",
       "      <td>2233.449951</td>\n",
       "      <td>8</td>\n",
       "      <td>33</td>\n",
       "      <td>4</td>\n",
       "      <td>2003.865967</td>\n",
       "      <td>{'Chrono': 2, 'Cybernetic': 2, 'DarkStar': 2, ...</td>\n",
       "      <td>{'Leona': {'items': [], 'star': 2}, 'Mordekais...</td>\n",
       "    </tr>\n",
       "    <tr>\n",
       "      <th>4</th>\n",
       "      <td>KR_4242528808</td>\n",
       "      <td>2233.449951</td>\n",
       "      <td>7</td>\n",
       "      <td>31</td>\n",
       "      <td>5</td>\n",
       "      <td>1885.395386</td>\n",
       "      <td>{'Blaster': 1, 'DarkStar': 1, 'Demolitionist':...</td>\n",
       "      <td>{'KhaZix': {'items': [], 'star': 2}, 'KaiSa': ...</td>\n",
       "    </tr>\n",
       "  </tbody>\n",
       "</table>\n",
       "</div>"
      ],
      "text/plain": [
       "          gameId  gameDuration  level  lastRound  Ranked  ingameDuration  \\\n",
       "0  KR_4242528808   2233.449951      8         37       1     2225.243408   \n",
       "1  KR_4242528808   2233.449951      9         37       2     2225.243408   \n",
       "2  KR_4242528808   2233.449951      8         35       3     2138.763428   \n",
       "3  KR_4242528808   2233.449951      8         33       4     2003.865967   \n",
       "4  KR_4242528808   2233.449951      7         31       5     1885.395386   \n",
       "\n",
       "                                         combination  \\\n",
       "0  {'DarkStar': 2, 'Protector': 4, 'Rebel': 1, 'S...   \n",
       "1  {'Blaster': 2, 'Chrono': 1, 'Cybernetic': 1, '...   \n",
       "2  {'Blaster': 3, 'Chrono': 2, 'Cybernetic': 1, '...   \n",
       "3  {'Chrono': 2, 'Cybernetic': 2, 'DarkStar': 2, ...   \n",
       "4  {'Blaster': 1, 'DarkStar': 1, 'Demolitionist':...   \n",
       "\n",
       "                                            champion  \n",
       "0  {'JarvanIV': {'items': [12], 'star': 3}, 'Sona...  \n",
       "1  {'Malphite': {'items': [], 'star': 2}, 'Blitzc...  \n",
       "2  {'Malphite': {'items': [], 'star': 2}, 'Blitzc...  \n",
       "3  {'Leona': {'items': [], 'star': 2}, 'Mordekais...  \n",
       "4  {'KhaZix': {'items': [], 'star': 2}, 'KaiSa': ...  "
      ]
     },
     "execution_count": null,
     "metadata": {},
     "output_type": "execute_result"
    }
   ],
   "source": [
    "data.head()"
   ]
  },
  {
   "cell_type": "code",
   "execution_count": null,
   "metadata": {},
   "outputs": [
    {
     "data": {
      "text/plain": [
       "Index(['gameId', 'gameDuration', 'level', 'lastRound', 'Ranked',\n",
       "       'ingameDuration', 'combination', 'champion'],\n",
       "      dtype='object')"
      ]
     },
     "execution_count": null,
     "metadata": {},
     "output_type": "execute_result"
    }
   ],
   "source": [
    "data.columns"
   ]
  },
  {
   "cell_type": "code",
   "execution_count": null,
   "metadata": {},
   "outputs": [
    {
     "data": {
      "text/plain": [
       "gameId            10000\n",
       "gameDuration       9966\n",
       "level                 7\n",
       "lastRound            38\n",
       "Ranked                9\n",
       "ingameDuration    69296\n",
       "combination       26452\n",
       "champion          79932\n",
       "dtype: int64"
      ]
     },
     "execution_count": null,
     "metadata": {},
     "output_type": "execute_result"
    }
   ],
   "source": [
    "data.nunique(axis=0)"
   ]
  },
  {
   "cell_type": "code",
   "execution_count": null,
   "metadata": {},
   "outputs": [
    {
     "data": {
      "text/html": [
       "<div>\n",
       "<style scoped>\n",
       "    .dataframe tbody tr th:only-of-type {\n",
       "        vertical-align: middle;\n",
       "    }\n",
       "\n",
       "    .dataframe tbody tr th {\n",
       "        vertical-align: top;\n",
       "    }\n",
       "\n",
       "    .dataframe thead th {\n",
       "        text-align: right;\n",
       "    }\n",
       "</style>\n",
       "<table border=\"1\" class=\"dataframe\">\n",
       "  <thead>\n",
       "    <tr style=\"text-align: right;\">\n",
       "      <th></th>\n",
       "      <th>gameDuration</th>\n",
       "      <th>level</th>\n",
       "      <th>lastRound</th>\n",
       "      <th>Ranked</th>\n",
       "      <th>ingameDuration</th>\n",
       "    </tr>\n",
       "  </thead>\n",
       "  <tbody>\n",
       "    <tr>\n",
       "      <th>count</th>\n",
       "      <td>79999.000000</td>\n",
       "      <td>79999.000000</td>\n",
       "      <td>79999.000000</td>\n",
       "      <td>79999.000000</td>\n",
       "      <td>79999.000000</td>\n",
       "    </tr>\n",
       "    <tr>\n",
       "      <th>mean</th>\n",
       "      <td>2155.497472</td>\n",
       "      <td>7.841323</td>\n",
       "      <td>33.531157</td>\n",
       "      <td>4.499331</td>\n",
       "      <td>1876.467332</td>\n",
       "    </tr>\n",
       "    <tr>\n",
       "      <th>std</th>\n",
       "      <td>133.843352</td>\n",
       "      <td>0.771159</td>\n",
       "      <td>4.784822</td>\n",
       "      <td>2.291910</td>\n",
       "      <td>267.107052</td>\n",
       "    </tr>\n",
       "    <tr>\n",
       "      <th>min</th>\n",
       "      <td>181.108841</td>\n",
       "      <td>3.000000</td>\n",
       "      <td>5.000000</td>\n",
       "      <td>0.000000</td>\n",
       "      <td>178.951233</td>\n",
       "    </tr>\n",
       "    <tr>\n",
       "      <th>25%</th>\n",
       "      <td>2063.781738</td>\n",
       "      <td>7.000000</td>\n",
       "      <td>30.000000</td>\n",
       "      <td>2.000000</td>\n",
       "      <td>1705.329529</td>\n",
       "    </tr>\n",
       "    <tr>\n",
       "      <th>50%</th>\n",
       "      <td>2148.008301</td>\n",
       "      <td>8.000000</td>\n",
       "      <td>34.000000</td>\n",
       "      <td>4.000000</td>\n",
       "      <td>1900.402954</td>\n",
       "    </tr>\n",
       "    <tr>\n",
       "      <th>75%</th>\n",
       "      <td>2242.993652</td>\n",
       "      <td>8.000000</td>\n",
       "      <td>37.000000</td>\n",
       "      <td>6.000000</td>\n",
       "      <td>2063.158691</td>\n",
       "    </tr>\n",
       "    <tr>\n",
       "      <th>max</th>\n",
       "      <td>2738.779053</td>\n",
       "      <td>9.000000</td>\n",
       "      <td>48.000000</td>\n",
       "      <td>8.000000</td>\n",
       "      <td>2730.512695</td>\n",
       "    </tr>\n",
       "  </tbody>\n",
       "</table>\n",
       "</div>"
      ],
      "text/plain": [
       "       gameDuration         level     lastRound        Ranked ingameDuration\n",
       "count  79999.000000  79999.000000  79999.000000  79999.000000   79999.000000\n",
       "mean    2155.497472      7.841323     33.531157      4.499331    1876.467332\n",
       "std      133.843352      0.771159      4.784822      2.291910     267.107052\n",
       "min      181.108841      3.000000      5.000000      0.000000     178.951233\n",
       "25%     2063.781738      7.000000     30.000000      2.000000    1705.329529\n",
       "50%     2148.008301      8.000000     34.000000      4.000000    1900.402954\n",
       "75%     2242.993652      8.000000     37.000000      6.000000    2063.158691\n",
       "max     2738.779053      9.000000     48.000000      8.000000    2730.512695"
      ]
     },
     "execution_count": null,
     "metadata": {},
     "output_type": "execute_result"
    }
   ],
   "source": [
    "data.describe().apply(lambda s: s.apply(lambda x: format(x, 'f')))"
   ]
  },
  {
   "cell_type": "code",
   "execution_count": null,
   "metadata": {},
   "outputs": [
    {
     "data": {
      "text/plain": [
       "array(['KR_4242528808', 'KR_4242832362', 'KR_4245902754', ...,\n",
       "       'KR_4367590765', 'KR_4367601148', 'KR_4367610629'], dtype=object)"
      ]
     },
     "execution_count": null,
     "metadata": {},
     "output_type": "execute_result"
    }
   ],
   "source": [
    "data.gameId.unique()"
   ]
  },
  {
   "cell_type": "code",
   "execution_count": null,
   "metadata": {},
   "outputs": [
    {
     "data": {
      "text/plain": [
       "array([2233.44995117, 2229.640625  , 2207.38305664, ..., 2090.05200195,\n",
       "       2259.52197266, 2171.34399414])"
      ]
     },
     "execution_count": null,
     "metadata": {},
     "output_type": "execute_result"
    }
   ],
   "source": [
    "data.gameDuration.unique()"
   ]
  },
  {
   "cell_type": "code",
   "execution_count": null,
   "metadata": {},
   "outputs": [
    {
     "data": {
      "text/plain": [
       "array([8, 9, 7, 6, 5, 4, 3], dtype=int64)"
      ]
     },
     "execution_count": null,
     "metadata": {},
     "output_type": "execute_result"
    }
   ],
   "source": [
    "data.level.unique()"
   ]
  },
  {
   "cell_type": "code",
   "execution_count": null,
   "metadata": {},
   "outputs": [
    {
     "data": {
      "text/plain": [
       "array([37, 35, 33, 31, 27, 26, 38, 30, 24, 28, 34, 40, 23, 16, 21, 19, 20,\n",
       "       12, 11, 41, 14, 42, 45, 25, 13, 47, 18, 44, 36, 15, 32, 29, 39, 17,\n",
       "       10, 22,  5, 48], dtype=int64)"
      ]
     },
     "execution_count": null,
     "metadata": {},
     "output_type": "execute_result"
    }
   ],
   "source": [
    "data.lastRound.unique()"
   ]
  },
  {
   "cell_type": "code",
   "execution_count": null,
   "metadata": {},
   "outputs": [
    {
     "data": {
      "text/plain": [
       "array([1, 2, 3, 4, 5, 6, 7, 8, 0], dtype=int64)"
      ]
     },
     "execution_count": null,
     "metadata": {},
     "output_type": "execute_result"
    }
   ],
   "source": [
    "data.Ranked.unique()"
   ]
  },
  {
   "cell_type": "code",
   "execution_count": null,
   "metadata": {},
   "outputs": [
    {
     "data": {
      "text/plain": [
       "array([2225.2434082 , 2138.76342773, 2003.8659668 , ..., 1658.85058594,\n",
       "       1562.578125  , 1264.66699219])"
      ]
     },
     "execution_count": null,
     "metadata": {},
     "output_type": "execute_result"
    }
   ],
   "source": [
    "data.ingameDuration.unique()"
   ]
  },
  {
   "cell_type": "code",
   "execution_count": null,
   "metadata": {},
   "outputs": [
    {
     "data": {
      "text/plain": [
       "array([\"{'DarkStar': 2, 'Protector': 4, 'Rebel': 1, 'Set3_Celestial': 3, 'Set3_Mystic': 4, 'StarGuardian': 2}\",\n",
       "       \"{'Blaster': 2, 'Chrono': 1, 'Cybernetic': 1, 'Mercenary': 1, 'Rebel': 2, 'Set3_Blademaster': 1, 'Set3_Brawler': 4, 'Set3_Celestial': 1, 'Set3_Mystic': 2, 'Set3_Void': 1, 'StarGuardian': 1, 'Valkyrie': 2}\",\n",
       "       \"{'Blaster': 3, 'Chrono': 2, 'Cybernetic': 1, 'Mercenary': 1, 'Rebel': 3, 'Set3_Brawler': 4, 'Set3_Void': 1, 'StarGuardian': 1, 'Starship': 1, 'Valkyrie': 1}\",\n",
       "       ...,\n",
       "       \"{'Chrono': 3, 'Cybernetic': 1, 'DarkStar': 1, 'ManaReaver': 2, 'Protector': 2, 'Rebel': 1, 'Set3_Blademaster': 3, 'Set3_Brawler': 1, 'Set3_Celestial': 4, 'Sniper': 2, 'TemplateTrait': 1}\",\n",
       "       \"{'Protector': 4, 'Rebel': 3, 'Set3_Blademaster': 2, 'Set3_Celestial': 2, 'Set3_Mystic': 2, 'StarGuardian': 2}\",\n",
       "       \"{'Cybernetic': 1, 'DarkStar': 1, 'Demolitionist': 1, 'Infiltrator': 4, 'MechPilot': 1, 'Set3_Blademaster': 1, 'Set3_Void': 1, 'Valkyrie': 2}\"],\n",
       "      dtype=object)"
      ]
     },
     "execution_count": null,
     "metadata": {},
     "output_type": "execute_result"
    }
   ],
   "source": [
    "data.combination.unique()"
   ]
  },
  {
   "cell_type": "code",
   "execution_count": null,
   "metadata": {},
   "outputs": [
    {
     "data": {
      "text/plain": [
       "array([\"{'JarvanIV': {'items': [12], 'star': 3}, 'Sona': {'items': [46], 'star': 3}, 'Rakan': {'items': [37, 45], 'star': 3}, 'XinZhao': {'items': [25, 66, 13], 'star': 3}, 'Neeko': {'items': [], 'star': 2}, 'Karma': {'items': [], 'star': 2}, 'Soraka': {'items': [], 'star': 1}, 'Lulu': {'items': [99, 47, 55], 'star': 2}}\",\n",
       "       \"{'Malphite': {'items': [], 'star': 2}, 'Blitzcrank': {'items': [], 'star': 2}, 'Vi': {'items': [], 'star': 1}, 'Jinx': {'items': [56, 13, 29], 'star': 2}, 'Soraka': {'items': [], 'star': 2}, 'ChoGath': {'items': [36, 6, 27], 'star': 2}, 'Kayle': {'items': [], 'star': 2}, 'MissFortune': {'items': [37, 34], 'star': 1}, 'Lulu': {'items': [17], 'star': 2}}\",\n",
       "       \"{'Malphite': {'items': [], 'star': 2}, 'Blitzcrank': {'items': [], 'star': 2}, 'Ezreal': {'items': [], 'star': 2}, 'Vi': {'items': [36], 'star': 2}, 'Jinx': {'items': [13, 57, 69], 'star': 1}, 'ChoGath': {'items': [], 'star': 2}, 'MissFortune': {'items': [33, 69], 'star': 2}, 'AurelionSol': {'items': [48], 'star': 2}}\",\n",
       "       ...,\n",
       "       \"{'TwistedFate': {'items': [], 'star': 2}, 'Malphite': {'items': [36, 67, 7], 'star': 2}, 'KhaZix': {'items': [], 'star': 1}, 'Blitzcrank': {'items': [], 'star': 2}, 'Shaco': {'items': [39], 'star': 2}, 'Vi': {'items': [], 'star': 2}, 'ChoGath': {'items': [27, 45], 'star': 1}, 'VelKoz': {'items': [39, 44], 'star': 2}}\",\n",
       "       \"{'Yasuo': {'items': [78], 'star': 3}, 'Sona': {'items': [46, 4], 'star': 3}, 'Rakan': {'items': [37, 14], 'star': 2}, 'XinZhao': {'items': [], 'star': 2}, 'Neeko': {'items': [], 'star': 2}, 'MasterYi': {'items': [25, 13], 'star': 2}, 'Soraka': {'items': [], 'star': 1}}\",\n",
       "       \"{'KhaZix': {'items': [], 'star': 2}, 'KaiSa': {'items': [44, 3], 'star': 2}, 'Shaco': {'items': [], 'star': 2}, 'Rumble': {'items': [36, 55], 'star': 2}, 'Kayle': {'items': [], 'star': 2}, 'Ekko': {'items': [33], 'star': 1}}\"],\n",
       "      dtype=object)"
      ]
     },
     "execution_count": null,
     "metadata": {},
     "output_type": "execute_result"
    }
   ],
   "source": [
    "data.champion.unique()"
   ]
  },
  {
   "cell_type": "code",
   "execution_count": null,
   "metadata": {},
   "outputs": [],
   "source": [
    "sns.countplot(data=data, y=\"champion\", color=\"skyblue\")\n",
    "plt.ylabel(\"\")\n",
    "plt.title(\"Bullet hit count by Airplane Zone\")\n",
    "plt.xlabel(\"Bullet hits\")\n",
    "sns.despine()"
   ]
  },
  {
   "cell_type": "code",
   "execution_count": null,
   "metadata": {},
   "outputs": [],
   "source": []
  },
  {
   "cell_type": "code",
   "execution_count": null,
   "metadata": {},
   "outputs": [],
   "source": []
  },
  {
   "cell_type": "code",
   "execution_count": null,
   "metadata": {},
   "outputs": [],
   "source": []
  }
 ],
 "metadata": {
  "kernelspec": {
   "display_name": "Python 3 (ipykernel)",
   "language": "python",
   "name": "python3"
  }
 },
 "nbformat": 4,
 "nbformat_minor": 4
}
