{
 "cells": [
  {
   "cell_type": "markdown",
   "metadata": {},
   "source": [
    "Jingtao Yang"
   ]
  },
  {
   "cell_type": "markdown",
   "metadata": {},
   "source": [
    "My research question is \"Which champions are the mostly commonly used\""
   ]
  },
  {
   "cell_type": "code",
   "execution_count": 1,
   "metadata": {},
   "outputs": [],
   "source": [
    "import pandas as pd\n",
    "import seaborn as sns\n",
    "import matplotlib.pyplot as plt\n",
    "data=pd.read_csv(\"../data/raw/TFT_Master_MatchData.csv\")"
   ]
  },
  {
   "cell_type": "code",
   "execution_count": 2,
   "metadata": {},
   "outputs": [
    {
     "data": {
      "text/html": [
       "<div>\n",
       "<style scoped>\n",
       "    .dataframe tbody tr th:only-of-type {\n",
       "        vertical-align: middle;\n",
       "    }\n",
       "\n",
       "    .dataframe tbody tr th {\n",
       "        vertical-align: top;\n",
       "    }\n",
       "\n",
       "    .dataframe thead th {\n",
       "        text-align: right;\n",
       "    }\n",
       "</style>\n",
       "<table border=\"1\" class=\"dataframe\">\n",
       "  <thead>\n",
       "    <tr style=\"text-align: right;\">\n",
       "      <th></th>\n",
       "      <th>gameId</th>\n",
       "      <th>gameDuration</th>\n",
       "      <th>level</th>\n",
       "      <th>lastRound</th>\n",
       "      <th>Ranked</th>\n",
       "      <th>ingameDuration</th>\n",
       "      <th>combination</th>\n",
       "      <th>champion</th>\n",
       "    </tr>\n",
       "  </thead>\n",
       "  <tbody>\n",
       "    <tr>\n",
       "      <th>0</th>\n",
       "      <td>KR_4242528808</td>\n",
       "      <td>2233.449951</td>\n",
       "      <td>8</td>\n",
       "      <td>37</td>\n",
       "      <td>1</td>\n",
       "      <td>2225.243408</td>\n",
       "      <td>{'DarkStar': 2, 'Protector': 4, 'Rebel': 1, 'S...</td>\n",
       "      <td>{'JarvanIV': {'items': [12], 'star': 3}, 'Sona...</td>\n",
       "    </tr>\n",
       "    <tr>\n",
       "      <th>1</th>\n",
       "      <td>KR_4242528808</td>\n",
       "      <td>2233.449951</td>\n",
       "      <td>9</td>\n",
       "      <td>37</td>\n",
       "      <td>2</td>\n",
       "      <td>2225.243408</td>\n",
       "      <td>{'Blaster': 2, 'Chrono': 1, 'Cybernetic': 1, '...</td>\n",
       "      <td>{'Malphite': {'items': [], 'star': 2}, 'Blitzc...</td>\n",
       "    </tr>\n",
       "    <tr>\n",
       "      <th>2</th>\n",
       "      <td>KR_4242528808</td>\n",
       "      <td>2233.449951</td>\n",
       "      <td>8</td>\n",
       "      <td>35</td>\n",
       "      <td>3</td>\n",
       "      <td>2138.763428</td>\n",
       "      <td>{'Blaster': 3, 'Chrono': 2, 'Cybernetic': 1, '...</td>\n",
       "      <td>{'Malphite': {'items': [], 'star': 2}, 'Blitzc...</td>\n",
       "    </tr>\n",
       "    <tr>\n",
       "      <th>3</th>\n",
       "      <td>KR_4242528808</td>\n",
       "      <td>2233.449951</td>\n",
       "      <td>8</td>\n",
       "      <td>33</td>\n",
       "      <td>4</td>\n",
       "      <td>2003.865967</td>\n",
       "      <td>{'Chrono': 2, 'Cybernetic': 2, 'DarkStar': 2, ...</td>\n",
       "      <td>{'Leona': {'items': [], 'star': 2}, 'Mordekais...</td>\n",
       "    </tr>\n",
       "    <tr>\n",
       "      <th>4</th>\n",
       "      <td>KR_4242528808</td>\n",
       "      <td>2233.449951</td>\n",
       "      <td>7</td>\n",
       "      <td>31</td>\n",
       "      <td>5</td>\n",
       "      <td>1885.395386</td>\n",
       "      <td>{'Blaster': 1, 'DarkStar': 1, 'Demolitionist':...</td>\n",
       "      <td>{'KhaZix': {'items': [], 'star': 2}, 'KaiSa': ...</td>\n",
       "    </tr>\n",
       "  </tbody>\n",
       "</table>\n",
       "</div>"
      ],
      "text/plain": [
       "          gameId  gameDuration  level  lastRound  Ranked  ingameDuration  \\\n",
       "0  KR_4242528808   2233.449951      8         37       1     2225.243408   \n",
       "1  KR_4242528808   2233.449951      9         37       2     2225.243408   \n",
       "2  KR_4242528808   2233.449951      8         35       3     2138.763428   \n",
       "3  KR_4242528808   2233.449951      8         33       4     2003.865967   \n",
       "4  KR_4242528808   2233.449951      7         31       5     1885.395386   \n",
       "\n",
       "                                         combination  \\\n",
       "0  {'DarkStar': 2, 'Protector': 4, 'Rebel': 1, 'S...   \n",
       "1  {'Blaster': 2, 'Chrono': 1, 'Cybernetic': 1, '...   \n",
       "2  {'Blaster': 3, 'Chrono': 2, 'Cybernetic': 1, '...   \n",
       "3  {'Chrono': 2, 'Cybernetic': 2, 'DarkStar': 2, ...   \n",
       "4  {'Blaster': 1, 'DarkStar': 1, 'Demolitionist':...   \n",
       "\n",
       "                                            champion  \n",
       "0  {'JarvanIV': {'items': [12], 'star': 3}, 'Sona...  \n",
       "1  {'Malphite': {'items': [], 'star': 2}, 'Blitzc...  \n",
       "2  {'Malphite': {'items': [], 'star': 2}, 'Blitzc...  \n",
       "3  {'Leona': {'items': [], 'star': 2}, 'Mordekais...  \n",
       "4  {'KhaZix': {'items': [], 'star': 2}, 'KaiSa': ...  "
      ]
     },
     "execution_count": 2,
     "metadata": {},
     "output_type": "execute_result"
    }
   ],
   "source": [
    "data.head()"
   ]
  },
  {
   "cell_type": "code",
   "execution_count": null,
   "metadata": {},
   "outputs": [],
   "source": [
    "# MileStone 3"
   ]
  },
  {
   "cell_type": "code",
   "execution_count": null,
   "metadata": {},
   "outputs": [],
   "source": [
    "# Task 1"
   ]
  },
  {
   "cell_type": "code",
   "execution_count": 3,
   "metadata": {},
   "outputs": [
    {
     "data": {
      "text/plain": [
       "(79999, 8)"
      ]
     },
     "execution_count": 3,
     "metadata": {},
     "output_type": "execute_result"
    }
   ],
   "source": [
    "#Import Libraries\n",
    "import numpy as np\n",
    "data.shape"
   ]
  },
  {
   "cell_type": "code",
   "execution_count": 4,
   "metadata": {},
   "outputs": [
    {
     "data": {
      "text/html": [
       "<div>\n",
       "<style scoped>\n",
       "    .dataframe tbody tr th:only-of-type {\n",
       "        vertical-align: middle;\n",
       "    }\n",
       "\n",
       "    .dataframe tbody tr th {\n",
       "        vertical-align: top;\n",
       "    }\n",
       "\n",
       "    .dataframe thead th {\n",
       "        text-align: right;\n",
       "    }\n",
       "</style>\n",
       "<table border=\"1\" class=\"dataframe\">\n",
       "  <thead>\n",
       "    <tr style=\"text-align: right;\">\n",
       "      <th></th>\n",
       "      <th>gameId</th>\n",
       "      <th>gameDuration</th>\n",
       "      <th>level</th>\n",
       "      <th>lastRound</th>\n",
       "      <th>Ranked</th>\n",
       "      <th>ingameDuration</th>\n",
       "      <th>combination</th>\n",
       "      <th>champion</th>\n",
       "    </tr>\n",
       "  </thead>\n",
       "  <tbody>\n",
       "    <tr>\n",
       "      <th>0</th>\n",
       "      <td>KR_4242528808</td>\n",
       "      <td>2233.449951</td>\n",
       "      <td>8</td>\n",
       "      <td>37</td>\n",
       "      <td>1</td>\n",
       "      <td>2225.243408</td>\n",
       "      <td>{'DarkStar': 2, 'Protector': 4, 'Rebel': 1, 'S...</td>\n",
       "      <td>{'JarvanIV': {'items': [12], 'star': 3}, 'Sona...</td>\n",
       "    </tr>\n",
       "    <tr>\n",
       "      <th>1</th>\n",
       "      <td>KR_4242528808</td>\n",
       "      <td>2233.449951</td>\n",
       "      <td>9</td>\n",
       "      <td>37</td>\n",
       "      <td>2</td>\n",
       "      <td>2225.243408</td>\n",
       "      <td>{'Blaster': 2, 'Chrono': 1, 'Cybernetic': 1, '...</td>\n",
       "      <td>{'Malphite': {'items': [], 'star': 2}, 'Blitzc...</td>\n",
       "    </tr>\n",
       "    <tr>\n",
       "      <th>2</th>\n",
       "      <td>KR_4242528808</td>\n",
       "      <td>2233.449951</td>\n",
       "      <td>8</td>\n",
       "      <td>35</td>\n",
       "      <td>3</td>\n",
       "      <td>2138.763428</td>\n",
       "      <td>{'Blaster': 3, 'Chrono': 2, 'Cybernetic': 1, '...</td>\n",
       "      <td>{'Malphite': {'items': [], 'star': 2}, 'Blitzc...</td>\n",
       "    </tr>\n",
       "    <tr>\n",
       "      <th>3</th>\n",
       "      <td>KR_4242528808</td>\n",
       "      <td>2233.449951</td>\n",
       "      <td>8</td>\n",
       "      <td>33</td>\n",
       "      <td>4</td>\n",
       "      <td>2003.865967</td>\n",
       "      <td>{'Chrono': 2, 'Cybernetic': 2, 'DarkStar': 2, ...</td>\n",
       "      <td>{'Leona': {'items': [], 'star': 2}, 'Mordekais...</td>\n",
       "    </tr>\n",
       "    <tr>\n",
       "      <th>4</th>\n",
       "      <td>KR_4242528808</td>\n",
       "      <td>2233.449951</td>\n",
       "      <td>7</td>\n",
       "      <td>31</td>\n",
       "      <td>5</td>\n",
       "      <td>1885.395386</td>\n",
       "      <td>{'Blaster': 1, 'DarkStar': 1, 'Demolitionist':...</td>\n",
       "      <td>{'KhaZix': {'items': [], 'star': 2}, 'KaiSa': ...</td>\n",
       "    </tr>\n",
       "  </tbody>\n",
       "</table>\n",
       "</div>"
      ],
      "text/plain": [
       "          gameId  gameDuration  level  lastRound  Ranked  ingameDuration  \\\n",
       "0  KR_4242528808   2233.449951      8         37       1     2225.243408   \n",
       "1  KR_4242528808   2233.449951      9         37       2     2225.243408   \n",
       "2  KR_4242528808   2233.449951      8         35       3     2138.763428   \n",
       "3  KR_4242528808   2233.449951      8         33       4     2003.865967   \n",
       "4  KR_4242528808   2233.449951      7         31       5     1885.395386   \n",
       "\n",
       "                                         combination  \\\n",
       "0  {'DarkStar': 2, 'Protector': 4, 'Rebel': 1, 'S...   \n",
       "1  {'Blaster': 2, 'Chrono': 1, 'Cybernetic': 1, '...   \n",
       "2  {'Blaster': 3, 'Chrono': 2, 'Cybernetic': 1, '...   \n",
       "3  {'Chrono': 2, 'Cybernetic': 2, 'DarkStar': 2, ...   \n",
       "4  {'Blaster': 1, 'DarkStar': 1, 'Demolitionist':...   \n",
       "\n",
       "                                            champion  \n",
       "0  {'JarvanIV': {'items': [12], 'star': 3}, 'Sona...  \n",
       "1  {'Malphite': {'items': [], 'star': 2}, 'Blitzc...  \n",
       "2  {'Malphite': {'items': [], 'star': 2}, 'Blitzc...  \n",
       "3  {'Leona': {'items': [], 'star': 2}, 'Mordekais...  \n",
       "4  {'KhaZix': {'items': [], 'star': 2}, 'KaiSa': ...  "
      ]
     },
     "execution_count": 4,
     "metadata": {},
     "output_type": "execute_result"
    }
   ],
   "source": [
    "data.head()"
   ]
  },
  {
   "cell_type": "code",
   "execution_count": 5,
   "metadata": {},
   "outputs": [
    {
     "data": {
      "text/plain": [
       "Index(['gameId', 'gameDuration', 'level', 'lastRound', 'Ranked',\n",
       "       'ingameDuration', 'combination', 'champion'],\n",
       "      dtype='object')"
      ]
     },
     "execution_count": 5,
     "metadata": {},
     "output_type": "execute_result"
    }
   ],
   "source": [
    "data.columns"
   ]
  },
  {
   "cell_type": "code",
   "execution_count": 6,
   "metadata": {},
   "outputs": [
    {
     "data": {
      "text/plain": [
       "gameId            10000\n",
       "gameDuration       9966\n",
       "level                 7\n",
       "lastRound            38\n",
       "Ranked                9\n",
       "ingameDuration    69296\n",
       "combination       26452\n",
       "champion          79932\n",
       "dtype: int64"
      ]
     },
     "execution_count": 6,
     "metadata": {},
     "output_type": "execute_result"
    }
   ],
   "source": [
    "data.nunique(axis=0)"
   ]
  },
  {
   "cell_type": "code",
   "execution_count": 7,
   "metadata": {},
   "outputs": [
    {
     "data": {
      "text/html": [
       "<div>\n",
       "<style scoped>\n",
       "    .dataframe tbody tr th:only-of-type {\n",
       "        vertical-align: middle;\n",
       "    }\n",
       "\n",
       "    .dataframe tbody tr th {\n",
       "        vertical-align: top;\n",
       "    }\n",
       "\n",
       "    .dataframe thead th {\n",
       "        text-align: right;\n",
       "    }\n",
       "</style>\n",
       "<table border=\"1\" class=\"dataframe\">\n",
       "  <thead>\n",
       "    <tr style=\"text-align: right;\">\n",
       "      <th></th>\n",
       "      <th>gameDuration</th>\n",
       "      <th>level</th>\n",
       "      <th>lastRound</th>\n",
       "      <th>Ranked</th>\n",
       "      <th>ingameDuration</th>\n",
       "    </tr>\n",
       "  </thead>\n",
       "  <tbody>\n",
       "    <tr>\n",
       "      <th>count</th>\n",
       "      <td>79999.000000</td>\n",
       "      <td>79999.000000</td>\n",
       "      <td>79999.000000</td>\n",
       "      <td>79999.000000</td>\n",
       "      <td>79999.000000</td>\n",
       "    </tr>\n",
       "    <tr>\n",
       "      <th>mean</th>\n",
       "      <td>2155.497472</td>\n",
       "      <td>7.841323</td>\n",
       "      <td>33.531157</td>\n",
       "      <td>4.499331</td>\n",
       "      <td>1876.467332</td>\n",
       "    </tr>\n",
       "    <tr>\n",
       "      <th>std</th>\n",
       "      <td>133.843352</td>\n",
       "      <td>0.771159</td>\n",
       "      <td>4.784822</td>\n",
       "      <td>2.291910</td>\n",
       "      <td>267.107052</td>\n",
       "    </tr>\n",
       "    <tr>\n",
       "      <th>min</th>\n",
       "      <td>181.108841</td>\n",
       "      <td>3.000000</td>\n",
       "      <td>5.000000</td>\n",
       "      <td>0.000000</td>\n",
       "      <td>178.951233</td>\n",
       "    </tr>\n",
       "    <tr>\n",
       "      <th>25%</th>\n",
       "      <td>2063.781738</td>\n",
       "      <td>7.000000</td>\n",
       "      <td>30.000000</td>\n",
       "      <td>2.000000</td>\n",
       "      <td>1705.329529</td>\n",
       "    </tr>\n",
       "    <tr>\n",
       "      <th>50%</th>\n",
       "      <td>2148.008301</td>\n",
       "      <td>8.000000</td>\n",
       "      <td>34.000000</td>\n",
       "      <td>4.000000</td>\n",
       "      <td>1900.402954</td>\n",
       "    </tr>\n",
       "    <tr>\n",
       "      <th>75%</th>\n",
       "      <td>2242.993652</td>\n",
       "      <td>8.000000</td>\n",
       "      <td>37.000000</td>\n",
       "      <td>6.000000</td>\n",
       "      <td>2063.158691</td>\n",
       "    </tr>\n",
       "    <tr>\n",
       "      <th>max</th>\n",
       "      <td>2738.779053</td>\n",
       "      <td>9.000000</td>\n",
       "      <td>48.000000</td>\n",
       "      <td>8.000000</td>\n",
       "      <td>2730.512695</td>\n",
       "    </tr>\n",
       "  </tbody>\n",
       "</table>\n",
       "</div>"
      ],
      "text/plain": [
       "       gameDuration         level     lastRound        Ranked ingameDuration\n",
       "count  79999.000000  79999.000000  79999.000000  79999.000000   79999.000000\n",
       "mean    2155.497472      7.841323     33.531157      4.499331    1876.467332\n",
       "std      133.843352      0.771159      4.784822      2.291910     267.107052\n",
       "min      181.108841      3.000000      5.000000      0.000000     178.951233\n",
       "25%     2063.781738      7.000000     30.000000      2.000000    1705.329529\n",
       "50%     2148.008301      8.000000     34.000000      4.000000    1900.402954\n",
       "75%     2242.993652      8.000000     37.000000      6.000000    2063.158691\n",
       "max     2738.779053      9.000000     48.000000      8.000000    2730.512695"
      ]
     },
     "execution_count": 7,
     "metadata": {},
     "output_type": "execute_result"
    }
   ],
   "source": [
    "data.describe().apply(lambda s: s.apply(lambda x: format(x, 'f')))"
   ]
  },
  {
   "cell_type": "code",
   "execution_count": 8,
   "metadata": {},
   "outputs": [
    {
     "data": {
      "text/plain": [
       "array(['KR_4242528808', 'KR_4242832362', 'KR_4245902754', ...,\n",
       "       'KR_4367590765', 'KR_4367601148', 'KR_4367610629'], dtype=object)"
      ]
     },
     "execution_count": 8,
     "metadata": {},
     "output_type": "execute_result"
    }
   ],
   "source": [
    "data.gameId.unique()"
   ]
  },
  {
   "cell_type": "code",
   "execution_count": 9,
   "metadata": {},
   "outputs": [
    {
     "data": {
      "text/plain": [
       "array([2233.44995117, 2229.640625  , 2207.38305664, ..., 2090.05200195,\n",
       "       2259.52197266, 2171.34399414])"
      ]
     },
     "execution_count": 9,
     "metadata": {},
     "output_type": "execute_result"
    }
   ],
   "source": [
    "data.gameDuration.unique()"
   ]
  },
  {
   "cell_type": "code",
   "execution_count": 10,
   "metadata": {},
   "outputs": [
    {
     "data": {
      "text/plain": [
       "array([8, 9, 7, 6, 5, 4, 3], dtype=int64)"
      ]
     },
     "execution_count": 10,
     "metadata": {},
     "output_type": "execute_result"
    }
   ],
   "source": [
    "data.level.unique()"
   ]
  },
  {
   "cell_type": "code",
   "execution_count": 11,
   "metadata": {},
   "outputs": [
    {
     "data": {
      "text/plain": [
       "array([37, 35, 33, 31, 27, 26, 38, 30, 24, 28, 34, 40, 23, 16, 21, 19, 20,\n",
       "       12, 11, 41, 14, 42, 45, 25, 13, 47, 18, 44, 36, 15, 32, 29, 39, 17,\n",
       "       10, 22,  5, 48], dtype=int64)"
      ]
     },
     "execution_count": 11,
     "metadata": {},
     "output_type": "execute_result"
    }
   ],
   "source": [
    "data.lastRound.unique()"
   ]
  },
  {
   "cell_type": "code",
   "execution_count": 12,
   "metadata": {},
   "outputs": [
    {
     "data": {
      "text/plain": [
       "array([1, 2, 3, 4, 5, 6, 7, 8, 0], dtype=int64)"
      ]
     },
     "execution_count": 12,
     "metadata": {},
     "output_type": "execute_result"
    }
   ],
   "source": [
    "data.Ranked.unique()"
   ]
  },
  {
   "cell_type": "code",
   "execution_count": 13,
   "metadata": {},
   "outputs": [
    {
     "data": {
      "text/plain": [
       "array([2225.2434082 , 2138.76342773, 2003.8659668 , ..., 1658.85058594,\n",
       "       1562.578125  , 1264.66699219])"
      ]
     },
     "execution_count": 13,
     "metadata": {},
     "output_type": "execute_result"
    }
   ],
   "source": [
    "data.ingameDuration.unique()"
   ]
  },
  {
   "cell_type": "code",
   "execution_count": 14,
   "metadata": {},
   "outputs": [
    {
     "data": {
      "text/plain": [
       "array([\"{'DarkStar': 2, 'Protector': 4, 'Rebel': 1, 'Set3_Celestial': 3, 'Set3_Mystic': 4, 'StarGuardian': 2}\",\n",
       "       \"{'Blaster': 2, 'Chrono': 1, 'Cybernetic': 1, 'Mercenary': 1, 'Rebel': 2, 'Set3_Blademaster': 1, 'Set3_Brawler': 4, 'Set3_Celestial': 1, 'Set3_Mystic': 2, 'Set3_Void': 1, 'StarGuardian': 1, 'Valkyrie': 2}\",\n",
       "       \"{'Blaster': 3, 'Chrono': 2, 'Cybernetic': 1, 'Mercenary': 1, 'Rebel': 3, 'Set3_Brawler': 4, 'Set3_Void': 1, 'StarGuardian': 1, 'Starship': 1, 'Valkyrie': 1}\",\n",
       "       ...,\n",
       "       \"{'Chrono': 3, 'Cybernetic': 1, 'DarkStar': 1, 'ManaReaver': 2, 'Protector': 2, 'Rebel': 1, 'Set3_Blademaster': 3, 'Set3_Brawler': 1, 'Set3_Celestial': 4, 'Sniper': 2, 'TemplateTrait': 1}\",\n",
       "       \"{'Protector': 4, 'Rebel': 3, 'Set3_Blademaster': 2, 'Set3_Celestial': 2, 'Set3_Mystic': 2, 'StarGuardian': 2}\",\n",
       "       \"{'Cybernetic': 1, 'DarkStar': 1, 'Demolitionist': 1, 'Infiltrator': 4, 'MechPilot': 1, 'Set3_Blademaster': 1, 'Set3_Void': 1, 'Valkyrie': 2}\"],\n",
       "      dtype=object)"
      ]
     },
     "execution_count": 14,
     "metadata": {},
     "output_type": "execute_result"
    }
   ],
   "source": [
    "data.combination.unique()"
   ]
  },
  {
   "cell_type": "code",
   "execution_count": 15,
   "metadata": {},
   "outputs": [
    {
     "data": {
      "text/plain": [
       "array([\"{'JarvanIV': {'items': [12], 'star': 3}, 'Sona': {'items': [46], 'star': 3}, 'Rakan': {'items': [37, 45], 'star': 3}, 'XinZhao': {'items': [25, 66, 13], 'star': 3}, 'Neeko': {'items': [], 'star': 2}, 'Karma': {'items': [], 'star': 2}, 'Soraka': {'items': [], 'star': 1}, 'Lulu': {'items': [99, 47, 55], 'star': 2}}\",\n",
       "       \"{'Malphite': {'items': [], 'star': 2}, 'Blitzcrank': {'items': [], 'star': 2}, 'Vi': {'items': [], 'star': 1}, 'Jinx': {'items': [56, 13, 29], 'star': 2}, 'Soraka': {'items': [], 'star': 2}, 'ChoGath': {'items': [36, 6, 27], 'star': 2}, 'Kayle': {'items': [], 'star': 2}, 'MissFortune': {'items': [37, 34], 'star': 1}, 'Lulu': {'items': [17], 'star': 2}}\",\n",
       "       \"{'Malphite': {'items': [], 'star': 2}, 'Blitzcrank': {'items': [], 'star': 2}, 'Ezreal': {'items': [], 'star': 2}, 'Vi': {'items': [36], 'star': 2}, 'Jinx': {'items': [13, 57, 69], 'star': 1}, 'ChoGath': {'items': [], 'star': 2}, 'MissFortune': {'items': [33, 69], 'star': 2}, 'AurelionSol': {'items': [48], 'star': 2}}\",\n",
       "       ...,\n",
       "       \"{'TwistedFate': {'items': [], 'star': 2}, 'Malphite': {'items': [36, 67, 7], 'star': 2}, 'KhaZix': {'items': [], 'star': 1}, 'Blitzcrank': {'items': [], 'star': 2}, 'Shaco': {'items': [39], 'star': 2}, 'Vi': {'items': [], 'star': 2}, 'ChoGath': {'items': [27, 45], 'star': 1}, 'VelKoz': {'items': [39, 44], 'star': 2}}\",\n",
       "       \"{'Yasuo': {'items': [78], 'star': 3}, 'Sona': {'items': [46, 4], 'star': 3}, 'Rakan': {'items': [37, 14], 'star': 2}, 'XinZhao': {'items': [], 'star': 2}, 'Neeko': {'items': [], 'star': 2}, 'MasterYi': {'items': [25, 13], 'star': 2}, 'Soraka': {'items': [], 'star': 1}}\",\n",
       "       \"{'KhaZix': {'items': [], 'star': 2}, 'KaiSa': {'items': [44, 3], 'star': 2}, 'Shaco': {'items': [], 'star': 2}, 'Rumble': {'items': [36, 55], 'star': 2}, 'Kayle': {'items': [], 'star': 2}, 'Ekko': {'items': [33], 'star': 1}}\"],\n",
       "      dtype=object)"
      ]
     },
     "execution_count": 15,
     "metadata": {},
     "output_type": "execute_result"
    }
   ],
   "source": [
    "data.champion.unique()"
   ]
  },
  {
   "cell_type": "code",
   "execution_count": 19,
   "metadata": {},
   "outputs": [
    {
     "data": {
      "image/png": "[encoded data removed]",
      "text/plain": [
       "<Figure size 640x480 with 1 Axes>"
      ]
     },
     "metadata": {},
     "output_type": "display_data"
    }
   ],
   "source": [
    "plot3=sns.countplot(data=data,x='level', color='green')"
   ]
  },
  {
   "cell_type": "code",
   "execution_count": null,
   "metadata": {},
   "outputs": [],
   "source": [
    "print('The numbers of the levels has been shown. 8 is where the most player ended up with')"
   ]
  },
  {
   "cell_type": "code",
   "execution_count": 25,
   "metadata": {},
   "outputs": [
    {
     "data": {
      "text/plain": [
       "<AxesSubplot: xlabel='ingameDuration', ylabel='Ranked'>"
      ]
     },
     "execution_count": 25,
     "metadata": {},
     "output_type": "execute_result"
    },
    {
     "data": {
      "image/png": "[encoded data removed]",
      "text/plain": [
       "<Figure size 640x480 with 1 Axes>"
      ]
     },
     "metadata": {},
     "output_type": "display_data"
    }
   ],
   "source": [
    "data.plot(kind='scatter', x='ingameDuration', y='Ranked', color = 'green')"
   ]
  },
  {
   "cell_type": "code",
   "execution_count": 28,
   "metadata": {},
   "outputs": [
    {
     "name": "stdout",
     "output_type": "stream",
     "text": [
      "This plot shows the relationship between in game duration and the rank of the players. We can see that there is a positive relationship between the rank and ingameDuration.\n"
     ]
    }
   ],
   "source": [
    "print('This plot shows the relationship between in game duration and the rank of the players. We can see that there is a positive relationship between the rank and ingameDuration.')"
   ]
  },
  {
   "cell_type": "code",
   "execution_count": 26,
   "metadata": {},
   "outputs": [
    {
     "data": {
      "text/plain": [
       "<AxesSubplot: xlabel='ingameDuration', ylabel='lastRound'>"
      ]
     },
     "execution_count": 26,
     "metadata": {},
     "output_type": "execute_result"
    },
    {
     "data": {
      "image/png": "[encoded data removed]",
      "text/plain": [
       "<Figure size 640x480 with 1 Axes>"
      ]
     },
     "metadata": {},
     "output_type": "display_data"
    }
   ],
   "source": [
    "data.plot(kind='scatter', x='ingameDuration', y='lastRound', color='green')"
   ]
  },
  {
   "cell_type": "code",
   "execution_count": null,
   "metadata": {},
   "outputs": [],
   "source": [
    "print('The plot shows the relatonship between ingameDuration and lastRound. It is a positive relationsihp.')'"
   ]
  },
  {
   "cell_type": "code",
   "execution_count": null,
   "metadata": {},
   "outputs": [],
   "source": [
    "# Task 2"
   ]
  },
  {
   "cell_type": "code",
   "execution_count": 72,
   "metadata": {},
   "outputs": [
    {
     "data": {
      "text/html": [
       "<div>\n",
       "<style scoped>\n",
       "    .dataframe tbody tr th:only-of-type {\n",
       "        vertical-align: middle;\n",
       "    }\n",
       "\n",
       "    .dataframe tbody tr th {\n",
       "        vertical-align: top;\n",
       "    }\n",
       "\n",
       "    .dataframe thead th {\n",
       "        text-align: right;\n",
       "    }\n",
       "</style>\n",
       "<table border=\"1\" class=\"dataframe\">\n",
       "  <thead>\n",
       "    <tr style=\"text-align: right;\">\n",
       "      <th></th>\n",
       "      <th>level_0</th>\n",
       "      <th>index</th>\n",
       "      <th>Ranked</th>\n",
       "      <th>champion</th>\n",
       "    </tr>\n",
       "  </thead>\n",
       "  <tbody>\n",
       "    <tr>\n",
       "      <th>0</th>\n",
       "      <td>0</td>\n",
       "      <td>0</td>\n",
       "      <td>1</td>\n",
       "      <td>{'JarvanIV': {'items': [12], 'star': 3}, 'Sona...</td>\n",
       "    </tr>\n",
       "    <tr>\n",
       "      <th>1</th>\n",
       "      <td>1</td>\n",
       "      <td>1</td>\n",
       "      <td>2</td>\n",
       "      <td>{'Malphite': {'items': [], 'star': 2}, 'Blitzc...</td>\n",
       "    </tr>\n",
       "    <tr>\n",
       "      <th>2</th>\n",
       "      <td>2</td>\n",
       "      <td>2</td>\n",
       "      <td>3</td>\n",
       "      <td>{'Malphite': {'items': [], 'star': 2}, 'Blitzc...</td>\n",
       "    </tr>\n",
       "    <tr>\n",
       "      <th>3</th>\n",
       "      <td>3</td>\n",
       "      <td>3</td>\n",
       "      <td>4</td>\n",
       "      <td>{'Leona': {'items': [], 'star': 2}, 'Mordekais...</td>\n",
       "    </tr>\n",
       "    <tr>\n",
       "      <th>4</th>\n",
       "      <td>4</td>\n",
       "      <td>4</td>\n",
       "      <td>5</td>\n",
       "      <td>{'KhaZix': {'items': [], 'star': 2}, 'KaiSa': ...</td>\n",
       "    </tr>\n",
       "  </tbody>\n",
       "</table>\n",
       "</div>"
      ],
      "text/plain": [
       "   level_0  index  Ranked                                           champion\n",
       "0        0      0       1  {'JarvanIV': {'items': [12], 'star': 3}, 'Sona...\n",
       "1        1      1       2  {'Malphite': {'items': [], 'star': 2}, 'Blitzc...\n",
       "2        2      2       3  {'Malphite': {'items': [], 'star': 2}, 'Blitzc...\n",
       "3        3      3       4  {'Leona': {'items': [], 'star': 2}, 'Mordekais...\n",
       "4        4      4       5  {'KhaZix': {'items': [], 'star': 2}, 'KaiSa': ..."
      ]
     },
     "execution_count": 72,
     "metadata": {},
     "output_type": "execute_result"
    }
   ],
   "source": [
    "df=data.drop([\"gameId\",\"gameDuration\",\"level\",\"lastRound\",\"ingameDuration\", \"combination\"], axis=\"columns\")\n",
    "df=dataNew.drop(df[df.Ranked!=1].index)\n",
    "df=dataNew.reset_index()\n",
    "df.head()"
   ]
  },
  {
   "cell_type": "code",
   "execution_count": 73,
   "metadata": {},
   "outputs": [],
   "source": [
    "import ast"
   ]
  },
  {
   "cell_type": "code",
   "execution_count": 74,
   "metadata": {},
   "outputs": [
    {
     "data": {
      "text/html": [
       "<div>\n",
       "<style scoped>\n",
       "    .dataframe tbody tr th:only-of-type {\n",
       "        vertical-align: middle;\n",
       "    }\n",
       "\n",
       "    .dataframe tbody tr th {\n",
       "        vertical-align: top;\n",
       "    }\n",
       "\n",
       "    .dataframe thead th {\n",
       "        text-align: right;\n",
       "    }\n",
       "</style>\n",
       "<table border=\"1\" class=\"dataframe\">\n",
       "  <thead>\n",
       "    <tr style=\"text-align: right;\">\n",
       "      <th></th>\n",
       "      <th>level_0</th>\n",
       "      <th>index</th>\n",
       "      <th>Ranked</th>\n",
       "      <th>championl</th>\n",
       "    </tr>\n",
       "  </thead>\n",
       "  <tbody>\n",
       "    <tr>\n",
       "      <th>0</th>\n",
       "      <td>0</td>\n",
       "      <td>0</td>\n",
       "      <td>1</td>\n",
       "      <td>{'JarvanIV': {'items': [12], 'star': 3}, 'Sona...</td>\n",
       "    </tr>\n",
       "    <tr>\n",
       "      <th>1</th>\n",
       "      <td>1</td>\n",
       "      <td>1</td>\n",
       "      <td>2</td>\n",
       "      <td>{'Malphite': {'items': [], 'star': 2}, 'Blitzc...</td>\n",
       "    </tr>\n",
       "    <tr>\n",
       "      <th>2</th>\n",
       "      <td>2</td>\n",
       "      <td>2</td>\n",
       "      <td>3</td>\n",
       "      <td>{'Malphite': {'items': [], 'star': 2}, 'Blitzc...</td>\n",
       "    </tr>\n",
       "    <tr>\n",
       "      <th>3</th>\n",
       "      <td>3</td>\n",
       "      <td>3</td>\n",
       "      <td>4</td>\n",
       "      <td>{'Leona': {'items': [], 'star': 2}, 'Mordekais...</td>\n",
       "    </tr>\n",
       "    <tr>\n",
       "      <th>4</th>\n",
       "      <td>4</td>\n",
       "      <td>4</td>\n",
       "      <td>5</td>\n",
       "      <td>{'KhaZix': {'items': [], 'star': 2}, 'KaiSa': ...</td>\n",
       "    </tr>\n",
       "  </tbody>\n",
       "</table>\n",
       "</div>"
      ],
      "text/plain": [
       "   level_0  index  Ranked                                          championl\n",
       "0        0      0       1  {'JarvanIV': {'items': [12], 'star': 3}, 'Sona...\n",
       "1        1      1       2  {'Malphite': {'items': [], 'star': 2}, 'Blitzc...\n",
       "2        2      2       3  {'Malphite': {'items': [], 'star': 2}, 'Blitzc...\n",
       "3        3      3       4  {'Leona': {'items': [], 'star': 2}, 'Mordekais...\n",
       "4        4      4       5  {'KhaZix': {'items': [], 'star': 2}, 'KaiSa': ..."
      ]
     },
     "execution_count": 74,
     "metadata": {},
     "output_type": "execute_result"
    }
   ],
   "source": [
    "#convert combination column from str to dict\n",
    "df['championl']=df['champion'].astype('str')\n",
    "df['championl']=df['championl'].apply(lambda x: ast.literal_eval(x))\n",
    "df=df.drop([\"champion\"], axis=\"columns\")\n",
    "df.head()"
   ]
  },
  {
   "cell_type": "code",
   "execution_count": 75,
   "metadata": {},
   "outputs": [
    {
     "data": {
      "text/plain": [
       "['Ahri',\n",
       " 'Annie',\n",
       " 'Ashe',\n",
       " 'AurelionSol',\n",
       " 'Blitzcrank',\n",
       " 'Caitlyn',\n",
       " 'ChoGath',\n",
       " 'Darius',\n",
       " 'Ekko',\n",
       " 'Ezreal',\n",
       " 'Fiora',\n",
       " 'Fizz',\n",
       " 'Gangplank',\n",
       " 'Graves',\n",
       " 'Irelia',\n",
       " 'JarvanIV',\n",
       " 'Jayce',\n",
       " 'Jhin',\n",
       " 'Jinx',\n",
       " 'KaiSa',\n",
       " 'Karma',\n",
       " 'Kassadin',\n",
       " 'Kayle',\n",
       " 'KhaZix',\n",
       " 'Leona',\n",
       " 'Lucian',\n",
       " 'Lulu',\n",
       " 'Lux',\n",
       " 'Malphite',\n",
       " 'MasterYi',\n",
       " 'MissFortune',\n",
       " 'Mordekaiser',\n",
       " 'Neeko',\n",
       " 'Poppy',\n",
       " 'Rakan',\n",
       " 'Rumble',\n",
       " 'Shaco',\n",
       " 'Shen',\n",
       " 'Sona',\n",
       " 'Soraka',\n",
       " 'Syndra',\n",
       " 'Thresh',\n",
       " 'TwistedFate',\n",
       " 'VelKoz',\n",
       " 'Vi',\n",
       " 'WuKong',\n",
       " 'Xayah',\n",
       " 'Xerath',\n",
       " 'XinZhao',\n",
       " 'Yasuo',\n",
       " 'Ziggs',\n",
       " 'Zoe']"
      ]
     },
     "execution_count": 75,
     "metadata": {},
     "output_type": "execute_result"
    }
   ],
   "source": [
    "clist=[]\n",
    "clist=df['championl'].apply(lambda x: list(set(x)))\n",
    "chs=[]\n",
    "for i in clist:\n",
    "    chs=list(set(chs+i))\n",
    "sorted(chs)"
   ]
  },
  {
   "cell_type": "code",
   "execution_count": 77,
   "metadata": {},
   "outputs": [
    {
     "data": {
      "text/html": [
       "<div>\n",
       "<style scoped>\n",
       "    .dataframe tbody tr th:only-of-type {\n",
       "        vertical-align: middle;\n",
       "    }\n",
       "\n",
       "    .dataframe tbody tr th {\n",
       "        vertical-align: top;\n",
       "    }\n",
       "\n",
       "    .dataframe thead th {\n",
       "        text-align: right;\n",
       "    }\n",
       "</style>\n",
       "<table border=\"1\" class=\"dataframe\">\n",
       "  <thead>\n",
       "    <tr style=\"text-align: right;\">\n",
       "      <th></th>\n",
       "      <th>Ranked</th>\n",
       "      <th>championl</th>\n",
       "      <th>Ahri</th>\n",
       "      <th>Annie</th>\n",
       "      <th>Ashe</th>\n",
       "      <th>AurelionSol</th>\n",
       "      <th>Blitzcrank</th>\n",
       "      <th>Caitlyn</th>\n",
       "      <th>ChoGath</th>\n",
       "      <th>Darius</th>\n",
       "      <th>...</th>\n",
       "      <th>TwistedFate</th>\n",
       "      <th>VelKoz</th>\n",
       "      <th>Vi</th>\n",
       "      <th>WuKong</th>\n",
       "      <th>Xayah</th>\n",
       "      <th>Xerath</th>\n",
       "      <th>XinZhao</th>\n",
       "      <th>Yasuo</th>\n",
       "      <th>Ziggs</th>\n",
       "      <th>Zoe</th>\n",
       "    </tr>\n",
       "  </thead>\n",
       "  <tbody>\n",
       "    <tr>\n",
       "      <th>0</th>\n",
       "      <td>1</td>\n",
       "      <td>{'JarvanIV': {'items': [12], 'star': 3}, 'Sona...</td>\n",
       "      <td>None</td>\n",
       "      <td>None</td>\n",
       "      <td>None</td>\n",
       "      <td>None</td>\n",
       "      <td>None</td>\n",
       "      <td>None</td>\n",
       "      <td>None</td>\n",
       "      <td>None</td>\n",
       "      <td>...</td>\n",
       "      <td>None</td>\n",
       "      <td>None</td>\n",
       "      <td>None</td>\n",
       "      <td>None</td>\n",
       "      <td>None</td>\n",
       "      <td>None</td>\n",
       "      <td>None</td>\n",
       "      <td>None</td>\n",
       "      <td>None</td>\n",
       "      <td>None</td>\n",
       "    </tr>\n",
       "    <tr>\n",
       "      <th>1</th>\n",
       "      <td>2</td>\n",
       "      <td>{'Malphite': {'items': [], 'star': 2}, 'Blitzc...</td>\n",
       "      <td>None</td>\n",
       "      <td>None</td>\n",
       "      <td>None</td>\n",
       "      <td>None</td>\n",
       "      <td>None</td>\n",
       "      <td>None</td>\n",
       "      <td>None</td>\n",
       "      <td>None</td>\n",
       "      <td>...</td>\n",
       "      <td>None</td>\n",
       "      <td>None</td>\n",
       "      <td>None</td>\n",
       "      <td>None</td>\n",
       "      <td>None</td>\n",
       "      <td>None</td>\n",
       "      <td>None</td>\n",
       "      <td>None</td>\n",
       "      <td>None</td>\n",
       "      <td>None</td>\n",
       "    </tr>\n",
       "    <tr>\n",
       "      <th>2</th>\n",
       "      <td>3</td>\n",
       "      <td>{'Malphite': {'items': [], 'star': 2}, 'Blitzc...</td>\n",
       "      <td>None</td>\n",
       "      <td>None</td>\n",
       "      <td>None</td>\n",
       "      <td>None</td>\n",
       "      <td>None</td>\n",
       "      <td>None</td>\n",
       "      <td>None</td>\n",
       "      <td>None</td>\n",
       "      <td>...</td>\n",
       "      <td>None</td>\n",
       "      <td>None</td>\n",
       "      <td>None</td>\n",
       "      <td>None</td>\n",
       "      <td>None</td>\n",
       "      <td>None</td>\n",
       "      <td>None</td>\n",
       "      <td>None</td>\n",
       "      <td>None</td>\n",
       "      <td>None</td>\n",
       "    </tr>\n",
       "    <tr>\n",
       "      <th>3</th>\n",
       "      <td>4</td>\n",
       "      <td>{'Leona': {'items': [], 'star': 2}, 'Mordekais...</td>\n",
       "      <td>None</td>\n",
       "      <td>None</td>\n",
       "      <td>None</td>\n",
       "      <td>None</td>\n",
       "      <td>None</td>\n",
       "      <td>None</td>\n",
       "      <td>None</td>\n",
       "      <td>None</td>\n",
       "      <td>...</td>\n",
       "      <td>None</td>\n",
       "      <td>None</td>\n",
       "      <td>None</td>\n",
       "      <td>None</td>\n",
       "      <td>None</td>\n",
       "      <td>None</td>\n",
       "      <td>None</td>\n",
       "      <td>None</td>\n",
       "      <td>None</td>\n",
       "      <td>None</td>\n",
       "    </tr>\n",
       "    <tr>\n",
       "      <th>4</th>\n",
       "      <td>5</td>\n",
       "      <td>{'KhaZix': {'items': [], 'star': 2}, 'KaiSa': ...</td>\n",
       "      <td>None</td>\n",
       "      <td>None</td>\n",
       "      <td>None</td>\n",
       "      <td>None</td>\n",
       "      <td>None</td>\n",
       "      <td>None</td>\n",
       "      <td>None</td>\n",
       "      <td>None</td>\n",
       "      <td>...</td>\n",
       "      <td>None</td>\n",
       "      <td>None</td>\n",
       "      <td>None</td>\n",
       "      <td>None</td>\n",
       "      <td>None</td>\n",
       "      <td>None</td>\n",
       "      <td>None</td>\n",
       "      <td>None</td>\n",
       "      <td>None</td>\n",
       "      <td>None</td>\n",
       "    </tr>\n",
       "  </tbody>\n",
       "</table>\n",
       "<p>5 rows × 54 columns</p>\n",
       "</div>"
      ],
      "text/plain": [
       "   Ranked                                          championl  Ahri Annie  \\\n",
       "0       1  {'JarvanIV': {'items': [12], 'star': 3}, 'Sona...  None  None   \n",
       "1       2  {'Malphite': {'items': [], 'star': 2}, 'Blitzc...  None  None   \n",
       "2       3  {'Malphite': {'items': [], 'star': 2}, 'Blitzc...  None  None   \n",
       "3       4  {'Leona': {'items': [], 'star': 2}, 'Mordekais...  None  None   \n",
       "4       5  {'KhaZix': {'items': [], 'star': 2}, 'KaiSa': ...  None  None   \n",
       "\n",
       "   Ashe AurelionSol Blitzcrank Caitlyn ChoGath Darius  ... TwistedFate VelKoz  \\\n",
       "0  None        None       None    None    None   None  ...        None   None   \n",
       "1  None        None       None    None    None   None  ...        None   None   \n",
       "2  None        None       None    None    None   None  ...        None   None   \n",
       "3  None        None       None    None    None   None  ...        None   None   \n",
       "4  None        None       None    None    None   None  ...        None   None   \n",
       "\n",
       "     Vi WuKong Xayah Xerath XinZhao Yasuo Ziggs   Zoe  \n",
       "0  None   None  None   None    None  None  None  None  \n",
       "1  None   None  None   None    None  None  None  None  \n",
       "2  None   None  None   None    None  None  None  None  \n",
       "3  None   None  None   None    None  None  None  None  \n",
       "4  None   None  None   None    None  None  None  None  \n",
       "\n",
       "[5 rows x 54 columns]"
      ]
     },
     "execution_count": 77,
     "metadata": {},
     "output_type": "execute_result"
    }
   ],
   "source": [
    "df2=df\n",
    "# data2=pd.concat([data1,pd.DataFrame(columns=sorted(uniqueCombination))])\n",
    "df2[[chs]]=None\n",
    "cols=['Ranked','championl']+sorted(chs)\n",
    "df2=df2[cols]\n",
    "df2.head()"
   ]
  },
  {
   "cell_type": "code",
   "execution_count": 80,
   "metadata": {},
   "outputs": [
    {
     "data": {
      "text/html": [
       "<div>\n",
       "<style scoped>\n",
       "    .dataframe tbody tr th:only-of-type {\n",
       "        vertical-align: middle;\n",
       "    }\n",
       "\n",
       "    .dataframe tbody tr th {\n",
       "        vertical-align: top;\n",
       "    }\n",
       "\n",
       "    .dataframe thead th {\n",
       "        text-align: right;\n",
       "    }\n",
       "</style>\n",
       "<table border=\"1\" class=\"dataframe\">\n",
       "  <thead>\n",
       "    <tr style=\"text-align: right;\">\n",
       "      <th></th>\n",
       "      <th>Ranked</th>\n",
       "      <th>championl</th>\n",
       "      <th>Ahri</th>\n",
       "      <th>Annie</th>\n",
       "      <th>Ashe</th>\n",
       "      <th>AurelionSol</th>\n",
       "      <th>Blitzcrank</th>\n",
       "      <th>Caitlyn</th>\n",
       "      <th>ChoGath</th>\n",
       "      <th>Darius</th>\n",
       "      <th>...</th>\n",
       "      <th>TwistedFate</th>\n",
       "      <th>VelKoz</th>\n",
       "      <th>Vi</th>\n",
       "      <th>WuKong</th>\n",
       "      <th>Xayah</th>\n",
       "      <th>Xerath</th>\n",
       "      <th>XinZhao</th>\n",
       "      <th>Yasuo</th>\n",
       "      <th>Ziggs</th>\n",
       "      <th>Zoe</th>\n",
       "    </tr>\n",
       "  </thead>\n",
       "  <tbody>\n",
       "    <tr>\n",
       "      <th>0</th>\n",
       "      <td>1</td>\n",
       "      <td>{'JarvanIV': {'items': [12], 'star': 3}, 'Sona...</td>\n",
       "      <td>None</td>\n",
       "      <td>None</td>\n",
       "      <td>None</td>\n",
       "      <td>None</td>\n",
       "      <td>None</td>\n",
       "      <td>None</td>\n",
       "      <td>None</td>\n",
       "      <td>None</td>\n",
       "      <td>...</td>\n",
       "      <td>None</td>\n",
       "      <td>None</td>\n",
       "      <td>None</td>\n",
       "      <td>None</td>\n",
       "      <td>None</td>\n",
       "      <td>None</td>\n",
       "      <td>{'items': [25, 66, 13], 'star': 3}</td>\n",
       "      <td>None</td>\n",
       "      <td>None</td>\n",
       "      <td>None</td>\n",
       "    </tr>\n",
       "    <tr>\n",
       "      <th>1</th>\n",
       "      <td>2</td>\n",
       "      <td>{'Malphite': {'items': [], 'star': 2}, 'Blitzc...</td>\n",
       "      <td>None</td>\n",
       "      <td>None</td>\n",
       "      <td>None</td>\n",
       "      <td>None</td>\n",
       "      <td>{'items': [], 'star': 2}</td>\n",
       "      <td>None</td>\n",
       "      <td>{'items': [36, 6, 27], 'star': 2}</td>\n",
       "      <td>None</td>\n",
       "      <td>...</td>\n",
       "      <td>None</td>\n",
       "      <td>None</td>\n",
       "      <td>{'items': [], 'star': 1}</td>\n",
       "      <td>None</td>\n",
       "      <td>None</td>\n",
       "      <td>None</td>\n",
       "      <td>None</td>\n",
       "      <td>None</td>\n",
       "      <td>None</td>\n",
       "      <td>None</td>\n",
       "    </tr>\n",
       "    <tr>\n",
       "      <th>2</th>\n",
       "      <td>3</td>\n",
       "      <td>{'Malphite': {'items': [], 'star': 2}, 'Blitzc...</td>\n",
       "      <td>None</td>\n",
       "      <td>None</td>\n",
       "      <td>None</td>\n",
       "      <td>{'items': [48], 'star': 2}</td>\n",
       "      <td>{'items': [], 'star': 2}</td>\n",
       "      <td>None</td>\n",
       "      <td>{'items': [], 'star': 2}</td>\n",
       "      <td>None</td>\n",
       "      <td>...</td>\n",
       "      <td>None</td>\n",
       "      <td>None</td>\n",
       "      <td>{'items': [36], 'star': 2}</td>\n",
       "      <td>None</td>\n",
       "      <td>None</td>\n",
       "      <td>None</td>\n",
       "      <td>None</td>\n",
       "      <td>None</td>\n",
       "      <td>None</td>\n",
       "      <td>None</td>\n",
       "    </tr>\n",
       "    <tr>\n",
       "      <th>3</th>\n",
       "      <td>4</td>\n",
       "      <td>{'Leona': {'items': [], 'star': 2}, 'Mordekais...</td>\n",
       "      <td>None</td>\n",
       "      <td>None</td>\n",
       "      <td>{'items': [14, 3], 'star': 2}</td>\n",
       "      <td>None</td>\n",
       "      <td>None</td>\n",
       "      <td>None</td>\n",
       "      <td>None</td>\n",
       "      <td>None</td>\n",
       "      <td>...</td>\n",
       "      <td>None</td>\n",
       "      <td>None</td>\n",
       "      <td>None</td>\n",
       "      <td>{'items': [], 'star': 2}</td>\n",
       "      <td>None</td>\n",
       "      <td>None</td>\n",
       "      <td>None</td>\n",
       "      <td>None</td>\n",
       "      <td>None</td>\n",
       "      <td>None</td>\n",
       "    </tr>\n",
       "    <tr>\n",
       "      <th>4</th>\n",
       "      <td>5</td>\n",
       "      <td>{'KhaZix': {'items': [], 'star': 2}, 'KaiSa': ...</td>\n",
       "      <td>None</td>\n",
       "      <td>{'items': [], 'star': 3}</td>\n",
       "      <td>None</td>\n",
       "      <td>None</td>\n",
       "      <td>None</td>\n",
       "      <td>None</td>\n",
       "      <td>None</td>\n",
       "      <td>None</td>\n",
       "      <td>...</td>\n",
       "      <td>None</td>\n",
       "      <td>None</td>\n",
       "      <td>None</td>\n",
       "      <td>None</td>\n",
       "      <td>None</td>\n",
       "      <td>None</td>\n",
       "      <td>None</td>\n",
       "      <td>None</td>\n",
       "      <td>None</td>\n",
       "      <td>None</td>\n",
       "    </tr>\n",
       "  </tbody>\n",
       "</table>\n",
       "<p>5 rows × 54 columns</p>\n",
       "</div>"
      ],
      "text/plain": [
       "   Ranked                                          championl  Ahri  \\\n",
       "0       1  {'JarvanIV': {'items': [12], 'star': 3}, 'Sona...  None   \n",
       "1       2  {'Malphite': {'items': [], 'star': 2}, 'Blitzc...  None   \n",
       "2       3  {'Malphite': {'items': [], 'star': 2}, 'Blitzc...  None   \n",
       "3       4  {'Leona': {'items': [], 'star': 2}, 'Mordekais...  None   \n",
       "4       5  {'KhaZix': {'items': [], 'star': 2}, 'KaiSa': ...  None   \n",
       "\n",
       "                      Annie                           Ashe  \\\n",
       "0                      None                           None   \n",
       "1                      None                           None   \n",
       "2                      None                           None   \n",
       "3                      None  {'items': [14, 3], 'star': 2}   \n",
       "4  {'items': [], 'star': 3}                           None   \n",
       "\n",
       "                  AurelionSol                Blitzcrank Caitlyn  \\\n",
       "0                        None                      None    None   \n",
       "1                        None  {'items': [], 'star': 2}    None   \n",
       "2  {'items': [48], 'star': 2}  {'items': [], 'star': 2}    None   \n",
       "3                        None                      None    None   \n",
       "4                        None                      None    None   \n",
       "\n",
       "                             ChoGath Darius  ... TwistedFate VelKoz  \\\n",
       "0                               None   None  ...        None   None   \n",
       "1  {'items': [36, 6, 27], 'star': 2}   None  ...        None   None   \n",
       "2           {'items': [], 'star': 2}   None  ...        None   None   \n",
       "3                               None   None  ...        None   None   \n",
       "4                               None   None  ...        None   None   \n",
       "\n",
       "                           Vi                    WuKong Xayah Xerath  \\\n",
       "0                        None                      None  None   None   \n",
       "1    {'items': [], 'star': 1}                      None  None   None   \n",
       "2  {'items': [36], 'star': 2}                      None  None   None   \n",
       "3                        None  {'items': [], 'star': 2}  None   None   \n",
       "4                        None                      None  None   None   \n",
       "\n",
       "                              XinZhao Yasuo Ziggs   Zoe  \n",
       "0  {'items': [25, 66, 13], 'star': 3}  None  None  None  \n",
       "1                                None  None  None  None  \n",
       "2                                None  None  None  None  \n",
       "3                                None  None  None  None  \n",
       "4                                None  None  None  None  \n",
       "\n",
       "[5 rows x 54 columns]"
      ]
     },
     "execution_count": 80,
     "metadata": {},
     "output_type": "execute_result"
    }
   ],
   "source": [
    "for i in range(len(df2.championl)):\n",
    "    keylist=list(df2.championl[i].keys())\n",
    "    for k in keylist:\n",
    "        value=df2.championl[i].get(k)\n",
    "        df2.at[i,k]=value\n",
    "    \n",
    "df2.head()"
   ]
  },
  {
   "cell_type": "code",
   "execution_count": 5,
   "metadata": {},
   "outputs": [],
   "source": [
    "def load_and_process(url_or_path_to_csv_file):\n",
    "\n",
    "\n",
    "    dft1 = (\n",
    "        pd.read_csv(url_or_path_to_csv_file)\n",
    "        .dropna()\n",
    "        .drop([\"gameId\",\"gameDuration\",\"level\",\"lastRound\",\"ingameDuration\",\"combination\"], axis=\"columns\")\n",
    "        .loc[lambda x: x['Ranked']==1]\n",
    "        .reset_index()\n",
    "        .drop([\"index\"], axis=\"columns\")\n",
    "      )\n",
    "\n",
    "    dft2 = (\n",
    "        dft11\n",
    "        .assign(combination_dict=lambda df:\n",
    "            df['champion'].apply(lambda x: ast.literal_eval(x)))\n",
    "        .drop([\"champion\"], axis=\"columns\")\n",
    "      )\n",
    "\n",
    "    # Make sure to return the latest dataframe\n",
    "\n",
    "    return dft2"
   ]
  },
  {
   "cell_type": "code",
   "execution_count": null,
   "metadata": {},
   "outputs": [],
   "source": []
  }
 ],
 "metadata": {
  "kernelspec": {
   "display_name": "Python 3 (ipykernel)",
   "language": "python",
   "name": "python3"
  },
  "language_info": {
   "codemirror_mode": {
    "name": "ipython",
    "version": 3
   },
   "file_extension": ".py",
   "mimetype": "text/x-python",
   "name": "python",
   "nbconvert_exporter": "python",
   "pygments_lexer": "ipython3",
   "version": "3.9.12"
  }
 },
 "nbformat": 4,
 "nbformat_minor": 4
}
