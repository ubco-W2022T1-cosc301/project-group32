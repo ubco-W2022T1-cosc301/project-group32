{
 "cells": [
  {
   "cell_type": "markdown",
   "metadata": {},
   "source": [
    "# Qianyu Shang"
   ]
  },
  {
   "cell_type": "markdown",
   "metadata": {},
   "source": [
    "## Which champion is most commonly used in the last round of game?\n",
    "\n",
    "My research question is to find the champion most pop"
   ]
  },
  {
   "cell_type": "code",
   "execution_count": null,
   "metadata": {},
   "outputs": [],
   "source": [
    "import pandas as pd\n"
   ]
  },
  {
   "cell_type": "code",
   "execution_count": null,
   "metadata": {},
   "outputs": [],
   "source": [
    "myDatabase = pd.read_csv('../data/raw/TFT_GrandMaster_MatchData.csv')\n"
   ]
  },
  {
   "cell_type": "code",
   "execution_count": null,
   "metadata": {},
   "outputs": [
    {
     "data": {
      "text/html": [
       "<div>\n",
       "<style scoped>\n",
       "    .dataframe tbody tr th:only-of-type {\n",
       "        vertical-align: middle;\n",
       "    }\n",
       "\n",
       "    .dataframe tbody tr th {\n",
       "        vertical-align: top;\n",
       "    }\n",
       "\n",
       "    .dataframe thead th {\n",
       "        text-align: right;\n",
       "    }\n",
       "</style>\n",
       "<table border=\"1\" class=\"dataframe\">\n",
       "  <thead>\n",
       "    <tr style=\"text-align: right;\">\n",
       "      <th></th>\n",
       "      <th>gameId</th>\n",
       "      <th>gameDuration</th>\n",
       "      <th>level</th>\n",
       "      <th>lastRound</th>\n",
       "      <th>Ranked</th>\n",
       "      <th>ingameDuration</th>\n",
       "      <th>combination</th>\n",
       "      <th>champion</th>\n",
       "    </tr>\n",
       "  </thead>\n",
       "  <tbody>\n",
       "    <tr>\n",
       "      <th>0</th>\n",
       "      <td>KR_4254769102</td>\n",
       "      <td>2319.661377</td>\n",
       "      <td>9</td>\n",
       "      <td>38</td>\n",
       "      <td>1</td>\n",
       "      <td>2311.472168</td>\n",
       "      <td>{'Blaster': 4, 'Chrono': 2, 'Cybernetic': 2, '...</td>\n",
       "      <td>{'Malphite': {'items': [], 'star': 2}, 'Blitzc...</td>\n",
       "    </tr>\n",
       "    <tr>\n",
       "      <th>1</th>\n",
       "      <td>KR_4254769102</td>\n",
       "      <td>2319.661377</td>\n",
       "      <td>9</td>\n",
       "      <td>38</td>\n",
       "      <td>2</td>\n",
       "      <td>2311.472168</td>\n",
       "      <td>{'Blaster': 2, 'Chrono': 2, 'Cybernetic': 6, '...</td>\n",
       "      <td>{'Fiora': {'items': [], 'star': 2}, 'Leona': {...</td>\n",
       "    </tr>\n",
       "    <tr>\n",
       "      <th>2</th>\n",
       "      <td>KR_4254769102</td>\n",
       "      <td>2319.661377</td>\n",
       "      <td>9</td>\n",
       "      <td>37</td>\n",
       "      <td>3</td>\n",
       "      <td>2247.994873</td>\n",
       "      <td>{'DarkStar': 2, 'Protector': 4, 'Rebel': 1, 'S...</td>\n",
       "      <td>{'JarvanIV': {'items': [], 'star': 3}, 'Sona':...</td>\n",
       "    </tr>\n",
       "    <tr>\n",
       "      <th>3</th>\n",
       "      <td>KR_4254769102</td>\n",
       "      <td>2319.661377</td>\n",
       "      <td>7</td>\n",
       "      <td>33</td>\n",
       "      <td>4</td>\n",
       "      <td>1996.358643</td>\n",
       "      <td>{'DarkStar': 2, 'Demolitionist': 1, 'Infiltrat...</td>\n",
       "      <td>{'KhaZix': {'items': [], 'star': 2}, 'KaiSa': ...</td>\n",
       "    </tr>\n",
       "    <tr>\n",
       "      <th>4</th>\n",
       "      <td>KR_4254769102</td>\n",
       "      <td>2319.661377</td>\n",
       "      <td>8</td>\n",
       "      <td>31</td>\n",
       "      <td>5</td>\n",
       "      <td>1871.789551</td>\n",
       "      <td>{'Chrono': 1, 'Cybernetic': 1, 'DarkStar': 3, ...</td>\n",
       "      <td>{'Leona': {'items': [], 'star': 1}, 'Mordekais...</td>\n",
       "    </tr>\n",
       "  </tbody>\n",
       "</table>\n",
       "</div>"
      ],
      "text/plain": [
       "          gameId  gameDuration  level  lastRound  Ranked  ingameDuration  \\\n",
       "0  KR_4254769102   2319.661377      9         38       1     2311.472168   \n",
       "1  KR_4254769102   2319.661377      9         38       2     2311.472168   \n",
       "2  KR_4254769102   2319.661377      9         37       3     2247.994873   \n",
       "3  KR_4254769102   2319.661377      7         33       4     1996.358643   \n",
       "4  KR_4254769102   2319.661377      8         31       5     1871.789551   \n",
       "\n",
       "                                         combination  \\\n",
       "0  {'Blaster': 4, 'Chrono': 2, 'Cybernetic': 2, '...   \n",
       "1  {'Blaster': 2, 'Chrono': 2, 'Cybernetic': 6, '...   \n",
       "2  {'DarkStar': 2, 'Protector': 4, 'Rebel': 1, 'S...   \n",
       "3  {'DarkStar': 2, 'Demolitionist': 1, 'Infiltrat...   \n",
       "4  {'Chrono': 1, 'Cybernetic': 1, 'DarkStar': 3, ...   \n",
       "\n",
       "                                            champion  \n",
       "0  {'Malphite': {'items': [], 'star': 2}, 'Blitzc...  \n",
       "1  {'Fiora': {'items': [], 'star': 2}, 'Leona': {...  \n",
       "2  {'JarvanIV': {'items': [], 'star': 3}, 'Sona':...  \n",
       "3  {'KhaZix': {'items': [], 'star': 2}, 'KaiSa': ...  \n",
       "4  {'Leona': {'items': [], 'star': 1}, 'Mordekais...  "
      ]
     },
     "execution_count": null,
     "metadata": {},
     "output_type": "execute_result"
    }
   ],
   "source": [
    "myDatabase.head()"
   ]
  },
  {
   "cell_type": "code",
   "execution_count": null,
   "metadata": {},
   "outputs": [],
   "source": []
  }
 ],
 "metadata": {
  "kernelspec": {
   "display_name": "Python 3 (ipykernel)",
   "language": "python",
   "name": "python3"
  }
 },
 "nbformat": 4,
 "nbformat_minor": 4
}
