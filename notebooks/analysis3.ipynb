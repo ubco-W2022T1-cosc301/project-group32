{
 "cells": [
  {
   "cell_type": "markdown",
   "metadata": {},
   "source": [
    "# Qianyu Shang"
   ]
  },
  {
   "cell_type": "markdown",
   "metadata": {},
   "source": [
    "## Which champion is most commonly used in the last round of game?\n",
    "\n",
    "My research question is to find the champion most popular(commonly used) at the last round of the TFT game."
   ]
  },
  {
   "cell_type": "code",
   "execution_count": null,
   "metadata": {},
   "outputs": [],
   "source": [
    "#Import Libraries\n",
    "import numpy as np\n",
    "import pandas as pd\n",
    "import matplotlib.pylab as plt\n",
    "import seaborn as sns\n",
    "import ast\n",
    "import numpy as np"
   ]
  },
  {
   "cell_type": "code",
   "execution_count": null,
   "metadata": {},
   "outputs": [
    {
     "data": {
      "text/html": [
       "<div>\n",
       "<style scoped>\n",
       "    .dataframe tbody tr th:only-of-type {\n",
       "        vertical-align: middle;\n",
       "    }\n",
       "\n",
       "    .dataframe tbody tr th {\n",
       "        vertical-align: top;\n",
       "    }\n",
       "\n",
       "    .dataframe thead th {\n",
       "        text-align: right;\n",
       "    }\n",
       "</style>\n",
       "<table border=\"1\" class=\"dataframe\">\n",
       "  <thead>\n",
       "    <tr style=\"text-align: right;\">\n",
       "      <th></th>\n",
       "      <th>gameId</th>\n",
       "      <th>gameDuration</th>\n",
       "      <th>level</th>\n",
       "      <th>lastRound</th>\n",
       "      <th>Ranked</th>\n",
       "      <th>ingameDuration</th>\n",
       "      <th>combination</th>\n",
       "      <th>champion</th>\n",
       "    </tr>\n",
       "  </thead>\n",
       "  <tbody>\n",
       "    <tr>\n",
       "      <th>0</th>\n",
       "      <td>KR_4254769102</td>\n",
       "      <td>2319.661377</td>\n",
       "      <td>9</td>\n",
       "      <td>38</td>\n",
       "      <td>1</td>\n",
       "      <td>2311.472168</td>\n",
       "      <td>{'Blaster': 4, 'Chrono': 2, 'Cybernetic': 2, '...</td>\n",
       "      <td>{'Malphite': {'items': [], 'star': 2}, 'Blitzc...</td>\n",
       "    </tr>\n",
       "    <tr>\n",
       "      <th>1</th>\n",
       "      <td>KR_4254769102</td>\n",
       "      <td>2319.661377</td>\n",
       "      <td>9</td>\n",
       "      <td>38</td>\n",
       "      <td>2</td>\n",
       "      <td>2311.472168</td>\n",
       "      <td>{'Blaster': 2, 'Chrono': 2, 'Cybernetic': 6, '...</td>\n",
       "      <td>{'Fiora': {'items': [], 'star': 2}, 'Leona': {...</td>\n",
       "    </tr>\n",
       "    <tr>\n",
       "      <th>2</th>\n",
       "      <td>KR_4254769102</td>\n",
       "      <td>2319.661377</td>\n",
       "      <td>9</td>\n",
       "      <td>37</td>\n",
       "      <td>3</td>\n",
       "      <td>2247.994873</td>\n",
       "      <td>{'DarkStar': 2, 'Protector': 4, 'Rebel': 1, 'S...</td>\n",
       "      <td>{'JarvanIV': {'items': [], 'star': 3}, 'Sona':...</td>\n",
       "    </tr>\n",
       "    <tr>\n",
       "      <th>3</th>\n",
       "      <td>KR_4254769102</td>\n",
       "      <td>2319.661377</td>\n",
       "      <td>7</td>\n",
       "      <td>33</td>\n",
       "      <td>4</td>\n",
       "      <td>1996.358643</td>\n",
       "      <td>{'DarkStar': 2, 'Demolitionist': 1, 'Infiltrat...</td>\n",
       "      <td>{'KhaZix': {'items': [], 'star': 2}, 'KaiSa': ...</td>\n",
       "    </tr>\n",
       "    <tr>\n",
       "      <th>4</th>\n",
       "      <td>KR_4254769102</td>\n",
       "      <td>2319.661377</td>\n",
       "      <td>8</td>\n",
       "      <td>31</td>\n",
       "      <td>5</td>\n",
       "      <td>1871.789551</td>\n",
       "      <td>{'Chrono': 1, 'Cybernetic': 1, 'DarkStar': 3, ...</td>\n",
       "      <td>{'Leona': {'items': [], 'star': 1}, 'Mordekais...</td>\n",
       "    </tr>\n",
       "    <tr>\n",
       "      <th>...</th>\n",
       "      <td>...</td>\n",
       "      <td>...</td>\n",
       "      <td>...</td>\n",
       "      <td>...</td>\n",
       "      <td>...</td>\n",
       "      <td>...</td>\n",
       "      <td>...</td>\n",
       "      <td>...</td>\n",
       "    </tr>\n",
       "    <tr>\n",
       "      <th>79995</th>\n",
       "      <td>KR_4365780453</td>\n",
       "      <td>1957.781738</td>\n",
       "      <td>8</td>\n",
       "      <td>33</td>\n",
       "      <td>4</td>\n",
       "      <td>1765.595581</td>\n",
       "      <td>{'Blaster': 4, 'Chrono': 2, 'Cybernetic': 1, '...</td>\n",
       "      <td>{'Malphite': {'items': [], 'star': 2}, 'Graves...</td>\n",
       "    </tr>\n",
       "    <tr>\n",
       "      <th>79996</th>\n",
       "      <td>KR_4365780453</td>\n",
       "      <td>1957.781738</td>\n",
       "      <td>8</td>\n",
       "      <td>33</td>\n",
       "      <td>5</td>\n",
       "      <td>1764.012573</td>\n",
       "      <td>{'Blaster': 2, 'Chrono': 2, 'Demolitionist': 2...</td>\n",
       "      <td>{'Blitzcrank': {'items': [67], 'star': 2}, 'Ru...</td>\n",
       "    </tr>\n",
       "    <tr>\n",
       "      <th>79997</th>\n",
       "      <td>KR_4365780453</td>\n",
       "      <td>1957.781738</td>\n",
       "      <td>8</td>\n",
       "      <td>31</td>\n",
       "      <td>6</td>\n",
       "      <td>1664.981812</td>\n",
       "      <td>{'Blaster': 4, 'Chrono': 2, 'Cybernetic': 2, '...</td>\n",
       "      <td>{'Malphite': {'items': [], 'star': 1}, 'Graves...</td>\n",
       "    </tr>\n",
       "    <tr>\n",
       "      <th>79998</th>\n",
       "      <td>KR_4365780453</td>\n",
       "      <td>1957.781738</td>\n",
       "      <td>8</td>\n",
       "      <td>28</td>\n",
       "      <td>7</td>\n",
       "      <td>1515.034302</td>\n",
       "      <td>{'Blaster': 2, 'Chrono': 2, 'Cybernetic': 3, '...</td>\n",
       "      <td>{'Malphite': {'items': [], 'star': 2}, 'Graves...</td>\n",
       "    </tr>\n",
       "    <tr>\n",
       "      <th>79999</th>\n",
       "      <td>KR_4365780453</td>\n",
       "      <td>1957.781738</td>\n",
       "      <td>6</td>\n",
       "      <td>21</td>\n",
       "      <td>8</td>\n",
       "      <td>1077.348022</td>\n",
       "      <td>{'ManaReaver': 2, 'Protector': 2, 'Set3_Celest...</td>\n",
       "      <td>{'Darius': {'items': [69, 36], 'star': 2}, 'Ra...</td>\n",
       "    </tr>\n",
       "  </tbody>\n",
       "</table>\n",
       "<p>80000 rows × 8 columns</p>\n",
       "</div>"
      ],
      "text/plain": [
       "              gameId  gameDuration  level  lastRound  Ranked  ingameDuration  \\\n",
       "0      KR_4254769102   2319.661377      9         38       1     2311.472168   \n",
       "1      KR_4254769102   2319.661377      9         38       2     2311.472168   \n",
       "2      KR_4254769102   2319.661377      9         37       3     2247.994873   \n",
       "3      KR_4254769102   2319.661377      7         33       4     1996.358643   \n",
       "4      KR_4254769102   2319.661377      8         31       5     1871.789551   \n",
       "...              ...           ...    ...        ...     ...             ...   \n",
       "79995  KR_4365780453   1957.781738      8         33       4     1765.595581   \n",
       "79996  KR_4365780453   1957.781738      8         33       5     1764.012573   \n",
       "79997  KR_4365780453   1957.781738      8         31       6     1664.981812   \n",
       "79998  KR_4365780453   1957.781738      8         28       7     1515.034302   \n",
       "79999  KR_4365780453   1957.781738      6         21       8     1077.348022   \n",
       "\n",
       "                                             combination  \\\n",
       "0      {'Blaster': 4, 'Chrono': 2, 'Cybernetic': 2, '...   \n",
       "1      {'Blaster': 2, 'Chrono': 2, 'Cybernetic': 6, '...   \n",
       "2      {'DarkStar': 2, 'Protector': 4, 'Rebel': 1, 'S...   \n",
       "3      {'DarkStar': 2, 'Demolitionist': 1, 'Infiltrat...   \n",
       "4      {'Chrono': 1, 'Cybernetic': 1, 'DarkStar': 3, ...   \n",
       "...                                                  ...   \n",
       "79995  {'Blaster': 4, 'Chrono': 2, 'Cybernetic': 1, '...   \n",
       "79996  {'Blaster': 2, 'Chrono': 2, 'Demolitionist': 2...   \n",
       "79997  {'Blaster': 4, 'Chrono': 2, 'Cybernetic': 2, '...   \n",
       "79998  {'Blaster': 2, 'Chrono': 2, 'Cybernetic': 3, '...   \n",
       "79999  {'ManaReaver': 2, 'Protector': 2, 'Set3_Celest...   \n",
       "\n",
       "                                                champion  \n",
       "0      {'Malphite': {'items': [], 'star': 2}, 'Blitzc...  \n",
       "1      {'Fiora': {'items': [], 'star': 2}, 'Leona': {...  \n",
       "2      {'JarvanIV': {'items': [], 'star': 3}, 'Sona':...  \n",
       "3      {'KhaZix': {'items': [], 'star': 2}, 'KaiSa': ...  \n",
       "4      {'Leona': {'items': [], 'star': 1}, 'Mordekais...  \n",
       "...                                                  ...  \n",
       "79995  {'Malphite': {'items': [], 'star': 2}, 'Graves...  \n",
       "79996  {'Blitzcrank': {'items': [67], 'star': 2}, 'Ru...  \n",
       "79997  {'Malphite': {'items': [], 'star': 1}, 'Graves...  \n",
       "79998  {'Malphite': {'items': [], 'star': 2}, 'Graves...  \n",
       "79999  {'Darius': {'items': [69, 36], 'star': 2}, 'Ra...  \n",
       "\n",
       "[80000 rows x 8 columns]"
      ]
     },
     "execution_count": null,
     "metadata": {},
     "output_type": "execute_result"
    }
   ],
   "source": [
    "myDatabase = pd.read_csv('../data/raw/TFT_GrandMaster_MatchData.csv')\n",
    "myDatabase"
   ]
  },
  {
   "cell_type": "code",
   "execution_count": null,
   "metadata": {},
   "outputs": [
    {
     "data": {
      "text/html": [
       "<div>\n",
       "<style scoped>\n",
       "    .dataframe tbody tr th:only-of-type {\n",
       "        vertical-align: middle;\n",
       "    }\n",
       "\n",
       "    .dataframe tbody tr th {\n",
       "        vertical-align: top;\n",
       "    }\n",
       "\n",
       "    .dataframe thead th {\n",
       "        text-align: right;\n",
       "    }\n",
       "</style>\n",
       "<table border=\"1\" class=\"dataframe\">\n",
       "  <thead>\n",
       "    <tr style=\"text-align: right;\">\n",
       "      <th></th>\n",
       "      <th>gameId</th>\n",
       "      <th>gameDuration</th>\n",
       "      <th>level</th>\n",
       "      <th>lastRound</th>\n",
       "      <th>Ranked</th>\n",
       "      <th>ingameDuration</th>\n",
       "      <th>combination</th>\n",
       "      <th>champion</th>\n",
       "    </tr>\n",
       "  </thead>\n",
       "  <tbody>\n",
       "    <tr>\n",
       "      <th>0</th>\n",
       "      <td>KR_4254769102</td>\n",
       "      <td>2319.661377</td>\n",
       "      <td>9</td>\n",
       "      <td>38</td>\n",
       "      <td>1</td>\n",
       "      <td>2311.472168</td>\n",
       "      <td>{'Blaster': 4, 'Chrono': 2, 'Cybernetic': 2, '...</td>\n",
       "      <td>{'Malphite': {'items': [], 'star': 2}, 'Blitzc...</td>\n",
       "    </tr>\n",
       "    <tr>\n",
       "      <th>1</th>\n",
       "      <td>KR_4254769102</td>\n",
       "      <td>2319.661377</td>\n",
       "      <td>9</td>\n",
       "      <td>38</td>\n",
       "      <td>2</td>\n",
       "      <td>2311.472168</td>\n",
       "      <td>{'Blaster': 2, 'Chrono': 2, 'Cybernetic': 6, '...</td>\n",
       "      <td>{'Fiora': {'items': [], 'star': 2}, 'Leona': {...</td>\n",
       "    </tr>\n",
       "    <tr>\n",
       "      <th>2</th>\n",
       "      <td>KR_4254769102</td>\n",
       "      <td>2319.661377</td>\n",
       "      <td>9</td>\n",
       "      <td>37</td>\n",
       "      <td>3</td>\n",
       "      <td>2247.994873</td>\n",
       "      <td>{'DarkStar': 2, 'Protector': 4, 'Rebel': 1, 'S...</td>\n",
       "      <td>{'JarvanIV': {'items': [], 'star': 3}, 'Sona':...</td>\n",
       "    </tr>\n",
       "    <tr>\n",
       "      <th>3</th>\n",
       "      <td>KR_4254769102</td>\n",
       "      <td>2319.661377</td>\n",
       "      <td>7</td>\n",
       "      <td>33</td>\n",
       "      <td>4</td>\n",
       "      <td>1996.358643</td>\n",
       "      <td>{'DarkStar': 2, 'Demolitionist': 1, 'Infiltrat...</td>\n",
       "      <td>{'KhaZix': {'items': [], 'star': 2}, 'KaiSa': ...</td>\n",
       "    </tr>\n",
       "    <tr>\n",
       "      <th>4</th>\n",
       "      <td>KR_4254769102</td>\n",
       "      <td>2319.661377</td>\n",
       "      <td>8</td>\n",
       "      <td>31</td>\n",
       "      <td>5</td>\n",
       "      <td>1871.789551</td>\n",
       "      <td>{'Chrono': 1, 'Cybernetic': 1, 'DarkStar': 3, ...</td>\n",
       "      <td>{'Leona': {'items': [], 'star': 1}, 'Mordekais...</td>\n",
       "    </tr>\n",
       "  </tbody>\n",
       "</table>\n",
       "</div>"
      ],
      "text/plain": [
       "          gameId  gameDuration  level  lastRound  Ranked  ingameDuration  \\\n",
       "0  KR_4254769102   2319.661377      9         38       1     2311.472168   \n",
       "1  KR_4254769102   2319.661377      9         38       2     2311.472168   \n",
       "2  KR_4254769102   2319.661377      9         37       3     2247.994873   \n",
       "3  KR_4254769102   2319.661377      7         33       4     1996.358643   \n",
       "4  KR_4254769102   2319.661377      8         31       5     1871.789551   \n",
       "\n",
       "                                         combination  \\\n",
       "0  {'Blaster': 4, 'Chrono': 2, 'Cybernetic': 2, '...   \n",
       "1  {'Blaster': 2, 'Chrono': 2, 'Cybernetic': 6, '...   \n",
       "2  {'DarkStar': 2, 'Protector': 4, 'Rebel': 1, 'S...   \n",
       "3  {'DarkStar': 2, 'Demolitionist': 1, 'Infiltrat...   \n",
       "4  {'Chrono': 1, 'Cybernetic': 1, 'DarkStar': 3, ...   \n",
       "\n",
       "                                            champion  \n",
       "0  {'Malphite': {'items': [], 'star': 2}, 'Blitzc...  \n",
       "1  {'Fiora': {'items': [], 'star': 2}, 'Leona': {...  \n",
       "2  {'JarvanIV': {'items': [], 'star': 3}, 'Sona':...  \n",
       "3  {'KhaZix': {'items': [], 'star': 2}, 'KaiSa': ...  \n",
       "4  {'Leona': {'items': [], 'star': 1}, 'Mordekais...  "
      ]
     },
     "execution_count": null,
     "metadata": {},
     "output_type": "execute_result"
    }
   ],
   "source": [
    "myDatabase.head()"
   ]
  },
  {
   "cell_type": "code",
   "execution_count": null,
   "metadata": {},
   "outputs": [],
   "source": []
  },
  {
   "cell_type": "markdown",
   "metadata": {},
   "source": [
    "# Milestone 3"
   ]
  },
  {
   "cell_type": "markdown",
   "metadata": {},
   "source": [
    "## Task 1: EDA"
   ]
  },
  {
   "cell_type": "code",
   "execution_count": null,
   "metadata": {},
   "outputs": [
    {
     "data": {
      "text/plain": [
       "(80000, 8)"
      ]
     },
     "execution_count": null,
     "metadata": {},
     "output_type": "execute_result"
    }
   ],
   "source": [
    "myDatabase.shape"
   ]
  },
  {
   "cell_type": "code",
   "execution_count": null,
   "metadata": {},
   "outputs": [
    {
     "data": {
      "text/plain": [
       "Index(['gameId', 'gameDuration', 'level', 'lastRound', 'Ranked',\n",
       "       'ingameDuration', 'combination', 'champion'],\n",
       "      dtype='object')"
      ]
     },
     "execution_count": null,
     "metadata": {},
     "output_type": "execute_result"
    }
   ],
   "source": [
    "myDatabase.columns"
   ]
  },
  {
   "cell_type": "code",
   "execution_count": null,
   "metadata": {},
   "outputs": [
    {
     "data": {
      "text/html": [
       "<div>\n",
       "<style scoped>\n",
       "    .dataframe tbody tr th:only-of-type {\n",
       "        vertical-align: middle;\n",
       "    }\n",
       "\n",
       "    .dataframe tbody tr th {\n",
       "        vertical-align: top;\n",
       "    }\n",
       "\n",
       "    .dataframe thead th {\n",
       "        text-align: right;\n",
       "    }\n",
       "</style>\n",
       "<table border=\"1\" class=\"dataframe\">\n",
       "  <thead>\n",
       "    <tr style=\"text-align: right;\">\n",
       "      <th></th>\n",
       "      <th>gameDuration</th>\n",
       "      <th>level</th>\n",
       "      <th>lastRound</th>\n",
       "      <th>Ranked</th>\n",
       "      <th>ingameDuration</th>\n",
       "    </tr>\n",
       "  </thead>\n",
       "  <tbody>\n",
       "    <tr>\n",
       "      <th>count</th>\n",
       "      <td>80000.000000</td>\n",
       "      <td>80000.000000</td>\n",
       "      <td>80000.000000</td>\n",
       "      <td>80000.000000</td>\n",
       "      <td>80000.000000</td>\n",
       "    </tr>\n",
       "    <tr>\n",
       "      <th>mean</th>\n",
       "      <td>2154.342035</td>\n",
       "      <td>7.895225</td>\n",
       "      <td>33.586700</td>\n",
       "      <td>4.499650</td>\n",
       "      <td>1875.537714</td>\n",
       "    </tr>\n",
       "    <tr>\n",
       "      <th>std</th>\n",
       "      <td>136.154835</td>\n",
       "      <td>0.758818</td>\n",
       "      <td>4.790018</td>\n",
       "      <td>2.291608</td>\n",
       "      <td>265.434429</td>\n",
       "    </tr>\n",
       "    <tr>\n",
       "      <th>min</th>\n",
       "      <td>125.278297</td>\n",
       "      <td>3.000000</td>\n",
       "      <td>4.000000</td>\n",
       "      <td>0.000000</td>\n",
       "      <td>123.155220</td>\n",
       "    </tr>\n",
       "    <tr>\n",
       "      <th>25%</th>\n",
       "      <td>2062.858154</td>\n",
       "      <td>8.000000</td>\n",
       "      <td>30.000000</td>\n",
       "      <td>2.000000</td>\n",
       "      <td>1704.234009</td>\n",
       "    </tr>\n",
       "    <tr>\n",
       "      <th>50%</th>\n",
       "      <td>2146.097900</td>\n",
       "      <td>8.000000</td>\n",
       "      <td>34.000000</td>\n",
       "      <td>4.000000</td>\n",
       "      <td>1897.793030</td>\n",
       "    </tr>\n",
       "    <tr>\n",
       "      <th>75%</th>\n",
       "      <td>2241.005310</td>\n",
       "      <td>8.000000</td>\n",
       "      <td>37.000000</td>\n",
       "      <td>6.000000</td>\n",
       "      <td>2062.072266</td>\n",
       "    </tr>\n",
       "    <tr>\n",
       "      <th>max</th>\n",
       "      <td>2775.935547</td>\n",
       "      <td>9.000000</td>\n",
       "      <td>49.000000</td>\n",
       "      <td>8.000000</td>\n",
       "      <td>2767.582275</td>\n",
       "    </tr>\n",
       "  </tbody>\n",
       "</table>\n",
       "</div>"
      ],
      "text/plain": [
       "       gameDuration         level     lastRound        Ranked  ingameDuration\n",
       "count  80000.000000  80000.000000  80000.000000  80000.000000    80000.000000\n",
       "mean    2154.342035      7.895225     33.586700      4.499650     1875.537714\n",
       "std      136.154835      0.758818      4.790018      2.291608      265.434429\n",
       "min      125.278297      3.000000      4.000000      0.000000      123.155220\n",
       "25%     2062.858154      8.000000     30.000000      2.000000     1704.234009\n",
       "50%     2146.097900      8.000000     34.000000      4.000000     1897.793030\n",
       "75%     2241.005310      8.000000     37.000000      6.000000     2062.072266\n",
       "max     2775.935547      9.000000     49.000000      8.000000     2767.582275"
      ]
     },
     "execution_count": null,
     "metadata": {},
     "output_type": "execute_result"
    }
   ],
   "source": [
    "myDatabase.describe()"
   ]
  },
  {
   "cell_type": "code",
   "execution_count": null,
   "metadata": {},
   "outputs": [
    {
     "name": "stdout",
     "output_type": "stream",
     "text": [
      "<class 'pandas.core.frame.DataFrame'>\n",
      "RangeIndex: 80000 entries, 0 to 79999\n",
      "Data columns (total 8 columns):\n",
      " #   Column          Non-Null Count  Dtype  \n",
      "---  ------          --------------  -----  \n",
      " 0   gameId          80000 non-null  object \n",
      " 1   gameDuration    80000 non-null  float64\n",
      " 2   level           80000 non-null  int64  \n",
      " 3   lastRound       80000 non-null  int64  \n",
      " 4   Ranked          80000 non-null  int64  \n",
      " 5   ingameDuration  80000 non-null  float64\n",
      " 6   combination     80000 non-null  object \n",
      " 7   champion        80000 non-null  object \n",
      "dtypes: float64(2), int64(3), object(3)\n",
      "memory usage: 4.9+ MB\n"
     ]
    }
   ],
   "source": [
    "myDatabase.info()"
   ]
  },
  {
   "cell_type": "code",
   "execution_count": null,
   "metadata": {},
   "outputs": [
    {
     "data": {
      "text/plain": [
       "count     80000\n",
       "unique    79953\n",
       "top          {}\n",
       "freq         46\n",
       "Name: champion, dtype: object"
      ]
     },
     "execution_count": null,
     "metadata": {},
     "output_type": "execute_result"
    }
   ],
   "source": [
    "myDatabase.champion.describe()"
   ]
  },
  {
   "cell_type": "code",
   "execution_count": null,
   "metadata": {},
   "outputs": [
    {
     "data": {
      "text/plain": [
       "array([\"{'Malphite': {'items': [], 'star': 2}, 'Blitzcrank': {'items': [58], 'star': 2}, 'Lucian': {'items': [6, 67], 'star': 2}, 'Ezreal': {'items': [], 'star': 2}, 'Vi': {'items': [67], 'star': 2}, 'Jinx': {'items': [23, 15, 12], 'star': 2}, 'ChoGath': {'items': [], 'star': 2}, 'Kayle': {'items': [], 'star': 1}, 'MissFortune': {'items': [23, 56, 25], 'star': 2}}\",\n",
       "       \"{'Fiora': {'items': [], 'star': 2}, 'Leona': {'items': [], 'star': 2}, 'Lucian': {'items': [29, 67, 12], 'star': 2}, 'Ezreal': {'items': [57], 'star': 2}, 'Vi': {'items': [], 'star': 2}, 'Irelia': {'items': [16, 19, 15], 'star': 2}, 'Kayle': {'items': [], 'star': 2}, 'Thresh': {'items': [], 'star': 1}, 'Ekko': {'items': [34, 67], 'star': 2}}\",\n",
       "       \"{'JarvanIV': {'items': [], 'star': 3}, 'Sona': {'items': [], 'star': 2}, 'Rakan': {'items': [37, 14, 15], 'star': 3}, 'XinZhao': {'items': [66, 25, 69], 'star': 3}, 'Neeko': {'items': [99, 69, 11], 'star': 2}, 'Karma': {'items': [], 'star': 2}, 'Ashe': {'items': [], 'star': 2}, 'Soraka': {'items': [], 'star': 1}, 'Lulu': {'items': [14, 44], 'star': 2}}\",\n",
       "       ...,\n",
       "       \"{'Malphite': {'items': [], 'star': 1}, 'Graves': {'items': [], 'star': 2}, 'Blitzcrank': {'items': [], 'star': 2}, 'Lucian': {'items': [69, 5, 14], 'star': 2}, 'Ezreal': {'items': [], 'star': 2}, 'Vi': {'items': [36], 'star': 2}, 'Jinx': {'items': [57, 12, 23], 'star': 2}, 'ChoGath': {'items': [], 'star': 2}}\",\n",
       "       \"{'Malphite': {'items': [], 'star': 2}, 'Graves': {'items': [], 'star': 2}, 'Blitzcrank': {'items': [], 'star': 2}, 'Lucian': {'items': [12, 57, 15], 'star': 2}, 'Vi': {'items': [], 'star': 2}, 'Irelia': {'items': [37, 44], 'star': 2}, 'ChoGath': {'items': [37], 'star': 2}, 'Thresh': {'items': [], 'star': 1}}\",\n",
       "       \"{'Darius': {'items': [69, 36], 'star': 2}, 'Rakan': {'items': [14, 14], 'star': 2}, 'XinZhao': {'items': [], 'star': 2}, 'Jayce': {'items': [], 'star': 2}, 'Kassadin': {'items': [], 'star': 2}, 'Ashe': {'items': [], 'star': 2}}\"],\n",
       "      dtype=object)"
      ]
     },
     "execution_count": null,
     "metadata": {},
     "output_type": "execute_result"
    }
   ],
   "source": [
    "myDatabase.champion.unique()"
   ]
  },
  {
   "cell_type": "code",
   "execution_count": null,
   "metadata": {},
   "outputs": [
    {
     "data": {
      "text/plain": [
       "array([1, 2, 3, 4, 5, 6, 7, 8, 0], dtype=int64)"
      ]
     },
     "execution_count": null,
     "metadata": {},
     "output_type": "execute_result"
    }
   ],
   "source": [
    "myDatabase.Ranked.unique()"
   ]
  },
  {
   "cell_type": "code",
   "execution_count": null,
   "metadata": {},
   "outputs": [
    {
     "data": {
      "text/plain": [
       "<AxesSubplot: >"
      ]
     },
     "execution_count": null,
     "metadata": {},
     "output_type": "execute_result"
    },
    {
     "data": {
      "image/png": "[encoded data removed]",
      "text/plain": [
       "<Figure size 640x480 with 2 Axes>"
      ]
     },
     "metadata": {},
     "output_type": "display_data"
    }
   ],
   "source": [
    "# calculate correlation matrix\n",
    "corr = myDatabase.corr()# plot the heatmap\n",
    "sns.heatmap(corr, xticklabels=corr.columns, yticklabels=corr.columns, annot=True, cmap=sns.diverging_palette(220, 20, as_cmap=True))"
   ]
  },
  {
   "cell_type": "markdown",
   "metadata": {},
   "source": [
    "Based on our definition of 'Ranked', the lowest value, integer 1 means the winner/top rank of each play, and 8 means the bottom rank of the play. From the HeatMap above, we can see that there is a positive correlation between lastRound and ingameDuration — the more rounds a player played the more ingameDuration the player has."
   ]
  },
  {
   "cell_type": "code",
   "execution_count": null,
   "metadata": {},
   "outputs": [
    {
     "name": "stderr",
     "output_type": "stream",
     "text": [
      "C:\\Users\\User\\miniconda3\\lib\\site-packages\\pandas\\plotting\\_matplotlib\\core.py:1114: UserWarning: No data for colormapping provided via 'c'. Parameters 'cmap' will be ignored\n",
      "  scatter = ax.scatter(\n"
     ]
    },
    {
     "data": {
      "text/plain": [
       "<AxesSubplot: xlabel='lastRound', ylabel='ingameDuration'>"
      ]
     },
     "execution_count": null,
     "metadata": {},
     "output_type": "execute_result"
    },
    {
     "data": {
      "image/png": "[encoded data removed]",
      "text/plain": [
       "<Figure size 640x480 with 1 Axes>"
      ]
     },
     "metadata": {},
     "output_type": "display_data"
    }
   ],
   "source": [
    "myDatabase.plot(kind='scatter', x='lastRound', y='ingameDuration')"
   ]
  },
  {
   "cell_type": "markdown",
   "metadata": {},
   "source": [
    "The above shows the positive correlation between the lastRound and ingameDuration mentioned in the above heatmap"
   ]
  },
  {
   "cell_type": "code",
   "execution_count": null,
   "metadata": {},
   "outputs": [
    {
     "data": {
      "text/plain": [
       "<AxesSubplot: ylabel='Frequency'>"
      ]
     },
     "execution_count": null,
     "metadata": {},
     "output_type": "execute_result"
    },
    {
     "data": {
      "image/png": "[encoded data removed]",
      "text/plain": [
       "<Figure size 800x100 with 1 Axes>"
      ]
     },
     "metadata": {},
     "output_type": "display_data"
    }
   ],
   "source": [
    "myDatabase['level'].plot(kind='hist', bins=8, figsize=(8,1), facecolor='lightblue',edgecolor='pink')"
   ]
  },
  {
   "cell_type": "markdown",
   "metadata": {},
   "source": [
    "The about count plot shows the frequency of each level at the end of plays"
   ]
  },
  {
   "cell_type": "markdown",
   "metadata": {},
   "source": [
    "## Task 2: Set up an 'Analysis Pipeline'"
   ]
  },
  {
   "cell_type": "code",
   "execution_count": null,
   "metadata": {},
   "outputs": [
    {
     "data": {
      "text/html": [
       "<div>\n",
       "<style scoped>\n",
       "    .dataframe tbody tr th:only-of-type {\n",
       "        vertical-align: middle;\n",
       "    }\n",
       "\n",
       "    .dataframe tbody tr th {\n",
       "        vertical-align: top;\n",
       "    }\n",
       "\n",
       "    .dataframe thead th {\n",
       "        text-align: right;\n",
       "    }\n",
       "</style>\n",
       "<table border=\"1\" class=\"dataframe\">\n",
       "  <thead>\n",
       "    <tr style=\"text-align: right;\">\n",
       "      <th></th>\n",
       "      <th>index</th>\n",
       "      <th>Ranked</th>\n",
       "      <th>combination</th>\n",
       "      <th>champion</th>\n",
       "    </tr>\n",
       "  </thead>\n",
       "  <tbody>\n",
       "    <tr>\n",
       "      <th>0</th>\n",
       "      <td>0</td>\n",
       "      <td>1</td>\n",
       "      <td>{'Blaster': 4, 'Chrono': 2, 'Cybernetic': 2, '...</td>\n",
       "      <td>{'Malphite': {'items': [], 'star': 2}, 'Blitzc...</td>\n",
       "    </tr>\n",
       "    <tr>\n",
       "      <th>1</th>\n",
       "      <td>8</td>\n",
       "      <td>1</td>\n",
       "      <td>{'DarkStar': 3, 'Demolitionist': 1, 'Infiltrat...</td>\n",
       "      <td>{'KhaZix': {'items': [57], 'star': 2}, 'KaiSa'...</td>\n",
       "    </tr>\n",
       "    <tr>\n",
       "      <th>2</th>\n",
       "      <td>16</td>\n",
       "      <td>1</td>\n",
       "      <td>{'DarkStar': 1, 'Demolitionist': 3, 'Infiltrat...</td>\n",
       "      <td>{'Zoe': {'items': [], 'star': 2}, 'Ahri': {'it...</td>\n",
       "    </tr>\n",
       "    <tr>\n",
       "      <th>3</th>\n",
       "      <td>24</td>\n",
       "      <td>1</td>\n",
       "      <td>{'Chrono': 1, 'DarkStar': 3, 'Set3_Celestial':...</td>\n",
       "      <td>{'Poppy': {'items': [], 'star': 2}, 'Mordekais...</td>\n",
       "    </tr>\n",
       "    <tr>\n",
       "      <th>4</th>\n",
       "      <td>32</td>\n",
       "      <td>1</td>\n",
       "      <td>{'Blaster': 2, 'Demolitionist': 2, 'Mercenary'...</td>\n",
       "      <td>{'Ziggs': {'items': [], 'star': 1}, 'Sona': {'...</td>\n",
       "    </tr>\n",
       "  </tbody>\n",
       "</table>\n",
       "</div>"
      ],
      "text/plain": [
       "   index  Ranked                                        combination  \\\n",
       "0      0       1  {'Blaster': 4, 'Chrono': 2, 'Cybernetic': 2, '...   \n",
       "1      8       1  {'DarkStar': 3, 'Demolitionist': 1, 'Infiltrat...   \n",
       "2     16       1  {'DarkStar': 1, 'Demolitionist': 3, 'Infiltrat...   \n",
       "3     24       1  {'Chrono': 1, 'DarkStar': 3, 'Set3_Celestial':...   \n",
       "4     32       1  {'Blaster': 2, 'Demolitionist': 2, 'Mercenary'...   \n",
       "\n",
       "                                            champion  \n",
       "0  {'Malphite': {'items': [], 'star': 2}, 'Blitzc...  \n",
       "1  {'KhaZix': {'items': [57], 'star': 2}, 'KaiSa'...  \n",
       "2  {'Zoe': {'items': [], 'star': 2}, 'Ahri': {'it...  \n",
       "3  {'Poppy': {'items': [], 'star': 2}, 'Mordekais...  \n",
       "4  {'Ziggs': {'items': [], 'star': 1}, 'Sona': {'...  "
      ]
     },
     "execution_count": null,
     "metadata": {},
     "output_type": "execute_result"
    }
   ],
   "source": [
    "df=myDatabase.drop([\"gameId\",\"gameDuration\",\"level\",\"lastRound\",\"ingameDuration\"], axis=\"columns\")\n",
    "df=df.drop(df[df.Ranked!=1].index)\n",
    "df=df.reset_index()\n",
    "df.head()"
   ]
  },
  {
   "cell_type": "markdown",
   "metadata": {},
   "source": [
    "Check if there is any missing or null data in the dataset"
   ]
  },
  {
   "cell_type": "code",
   "execution_count": null,
   "metadata": {},
   "outputs": [
    {
     "name": "stdout",
     "output_type": "stream",
     "text": [
      "False\n"
     ]
    }
   ],
   "source": [
    "print(pd.isnull(df).values.any())"
   ]
  },
  {
   "cell_type": "markdown",
   "metadata": {},
   "source": [
    "Now below is my final dataset"
   ]
  },
  {
   "cell_type": "code",
   "execution_count": null,
   "metadata": {},
   "outputs": [
    {
     "data": {
      "text/html": [
       "<div>\n",
       "<style scoped>\n",
       "    .dataframe tbody tr th:only-of-type {\n",
       "        vertical-align: middle;\n",
       "    }\n",
       "\n",
       "    .dataframe tbody tr th {\n",
       "        vertical-align: top;\n",
       "    }\n",
       "\n",
       "    .dataframe thead th {\n",
       "        text-align: right;\n",
       "    }\n",
       "</style>\n",
       "<table border=\"1\" class=\"dataframe\">\n",
       "  <thead>\n",
       "    <tr style=\"text-align: right;\">\n",
       "      <th></th>\n",
       "      <th>index</th>\n",
       "      <th>Ranked</th>\n",
       "      <th>combination</th>\n",
       "      <th>champion</th>\n",
       "    </tr>\n",
       "  </thead>\n",
       "  <tbody>\n",
       "    <tr>\n",
       "      <th>0</th>\n",
       "      <td>0</td>\n",
       "      <td>1</td>\n",
       "      <td>{'Blaster': 4, 'Chrono': 2, 'Cybernetic': 2, '...</td>\n",
       "      <td>{'Malphite': {'items': [], 'star': 2}, 'Blitzc...</td>\n",
       "    </tr>\n",
       "    <tr>\n",
       "      <th>1</th>\n",
       "      <td>8</td>\n",
       "      <td>1</td>\n",
       "      <td>{'DarkStar': 3, 'Demolitionist': 1, 'Infiltrat...</td>\n",
       "      <td>{'KhaZix': {'items': [57], 'star': 2}, 'KaiSa'...</td>\n",
       "    </tr>\n",
       "    <tr>\n",
       "      <th>2</th>\n",
       "      <td>16</td>\n",
       "      <td>1</td>\n",
       "      <td>{'DarkStar': 1, 'Demolitionist': 3, 'Infiltrat...</td>\n",
       "      <td>{'Zoe': {'items': [], 'star': 2}, 'Ahri': {'it...</td>\n",
       "    </tr>\n",
       "    <tr>\n",
       "      <th>3</th>\n",
       "      <td>24</td>\n",
       "      <td>1</td>\n",
       "      <td>{'Chrono': 1, 'DarkStar': 3, 'Set3_Celestial':...</td>\n",
       "      <td>{'Poppy': {'items': [], 'star': 2}, 'Mordekais...</td>\n",
       "    </tr>\n",
       "    <tr>\n",
       "      <th>4</th>\n",
       "      <td>32</td>\n",
       "      <td>1</td>\n",
       "      <td>{'Blaster': 2, 'Demolitionist': 2, 'Mercenary'...</td>\n",
       "      <td>{'Ziggs': {'items': [], 'star': 1}, 'Sona': {'...</td>\n",
       "    </tr>\n",
       "    <tr>\n",
       "      <th>...</th>\n",
       "      <td>...</td>\n",
       "      <td>...</td>\n",
       "      <td>...</td>\n",
       "      <td>...</td>\n",
       "    </tr>\n",
       "    <tr>\n",
       "      <th>9994</th>\n",
       "      <td>79960</td>\n",
       "      <td>1</td>\n",
       "      <td>{'Blaster': 2, 'Chrono': 2, 'Cybernetic': 6, '...</td>\n",
       "      <td>{'Fiora': {'items': [5], 'star': 2}, 'Leona': ...</td>\n",
       "    </tr>\n",
       "    <tr>\n",
       "      <th>9995</th>\n",
       "      <td>79968</td>\n",
       "      <td>1</td>\n",
       "      <td>{'Blaster': 2, 'Cybernetic': 6, 'Infiltrator':...</td>\n",
       "      <td>{'Fiora': {'items': [27], 'star': 2}, 'Leona':...</td>\n",
       "    </tr>\n",
       "    <tr>\n",
       "      <th>9996</th>\n",
       "      <td>79976</td>\n",
       "      <td>1</td>\n",
       "      <td>{'Blaster': 4, 'Chrono': 2, 'Cybernetic': 2, '...</td>\n",
       "      <td>{'Malphite': {'items': [], 'star': 2}, 'Graves...</td>\n",
       "    </tr>\n",
       "    <tr>\n",
       "      <th>9997</th>\n",
       "      <td>79984</td>\n",
       "      <td>1</td>\n",
       "      <td>{'Blaster': 4, 'Chrono': 2, 'Cybernetic': 1, '...</td>\n",
       "      <td>{'Malphite': {'items': [], 'star': 2}, 'Graves...</td>\n",
       "    </tr>\n",
       "    <tr>\n",
       "      <th>9998</th>\n",
       "      <td>79992</td>\n",
       "      <td>1</td>\n",
       "      <td>{'Chrono': 2, 'DarkStar': 1, 'Rebel': 1, 'Set3...</td>\n",
       "      <td>{'TwistedFate': {'items': [13, 39, 33], 'star'...</td>\n",
       "    </tr>\n",
       "  </tbody>\n",
       "</table>\n",
       "<p>9999 rows × 4 columns</p>\n",
       "</div>"
      ],
      "text/plain": [
       "      index  Ranked                                        combination  \\\n",
       "0         0       1  {'Blaster': 4, 'Chrono': 2, 'Cybernetic': 2, '...   \n",
       "1         8       1  {'DarkStar': 3, 'Demolitionist': 1, 'Infiltrat...   \n",
       "2        16       1  {'DarkStar': 1, 'Demolitionist': 3, 'Infiltrat...   \n",
       "3        24       1  {'Chrono': 1, 'DarkStar': 3, 'Set3_Celestial':...   \n",
       "4        32       1  {'Blaster': 2, 'Demolitionist': 2, 'Mercenary'...   \n",
       "...     ...     ...                                                ...   \n",
       "9994  79960       1  {'Blaster': 2, 'Chrono': 2, 'Cybernetic': 6, '...   \n",
       "9995  79968       1  {'Blaster': 2, 'Cybernetic': 6, 'Infiltrator':...   \n",
       "9996  79976       1  {'Blaster': 4, 'Chrono': 2, 'Cybernetic': 2, '...   \n",
       "9997  79984       1  {'Blaster': 4, 'Chrono': 2, 'Cybernetic': 1, '...   \n",
       "9998  79992       1  {'Chrono': 2, 'DarkStar': 1, 'Rebel': 1, 'Set3...   \n",
       "\n",
       "                                               champion  \n",
       "0     {'Malphite': {'items': [], 'star': 2}, 'Blitzc...  \n",
       "1     {'KhaZix': {'items': [57], 'star': 2}, 'KaiSa'...  \n",
       "2     {'Zoe': {'items': [], 'star': 2}, 'Ahri': {'it...  \n",
       "3     {'Poppy': {'items': [], 'star': 2}, 'Mordekais...  \n",
       "4     {'Ziggs': {'items': [], 'star': 1}, 'Sona': {'...  \n",
       "...                                                 ...  \n",
       "9994  {'Fiora': {'items': [5], 'star': 2}, 'Leona': ...  \n",
       "9995  {'Fiora': {'items': [27], 'star': 2}, 'Leona':...  \n",
       "9996  {'Malphite': {'items': [], 'star': 2}, 'Graves...  \n",
       "9997  {'Malphite': {'items': [], 'star': 2}, 'Graves...  \n",
       "9998  {'TwistedFate': {'items': [13, 39, 33], 'star'...  \n",
       "\n",
       "[9999 rows x 4 columns]"
      ]
     },
     "execution_count": null,
     "metadata": {},
     "output_type": "execute_result"
    }
   ],
   "source": [
    "df"
   ]
  },
  {
   "cell_type": "markdown",
   "metadata": {},
   "source": [
    "## Task 3: Method Chaining"
   ]
  },
  {
   "cell_type": "markdown",
   "metadata": {},
   "source": [
    "#### Step 1"
   ]
  },
  {
   "cell_type": "code",
   "execution_count": null,
   "metadata": {},
   "outputs": [
    {
     "data": {
      "text/html": [
       "<div>\n",
       "<style scoped>\n",
       "    .dataframe tbody tr th:only-of-type {\n",
       "        vertical-align: middle;\n",
       "    }\n",
       "\n",
       "    .dataframe tbody tr th {\n",
       "        vertical-align: top;\n",
       "    }\n",
       "\n",
       "    .dataframe thead th {\n",
       "        text-align: right;\n",
       "    }\n",
       "</style>\n",
       "<table border=\"1\" class=\"dataframe\">\n",
       "  <thead>\n",
       "    <tr style=\"text-align: right;\">\n",
       "      <th></th>\n",
       "      <th>Ranked</th>\n",
       "      <th>champion</th>\n",
       "      <th>combination_dict</th>\n",
       "    </tr>\n",
       "  </thead>\n",
       "  <tbody>\n",
       "    <tr>\n",
       "      <th>0</th>\n",
       "      <td>1</td>\n",
       "      <td>{'Malphite': {'items': [], 'star': 2}, 'Blitzc...</td>\n",
       "      <td>{'Blaster': 4, 'Chrono': 2, 'Cybernetic': 2, '...</td>\n",
       "    </tr>\n",
       "    <tr>\n",
       "      <th>1</th>\n",
       "      <td>1</td>\n",
       "      <td>{'KhaZix': {'items': [57], 'star': 2}, 'KaiSa'...</td>\n",
       "      <td>{'DarkStar': 3, 'Demolitionist': 1, 'Infiltrat...</td>\n",
       "    </tr>\n",
       "    <tr>\n",
       "      <th>2</th>\n",
       "      <td>1</td>\n",
       "      <td>{'Zoe': {'items': [], 'star': 2}, 'Ahri': {'it...</td>\n",
       "      <td>{'DarkStar': 1, 'Demolitionist': 3, 'Infiltrat...</td>\n",
       "    </tr>\n",
       "    <tr>\n",
       "      <th>3</th>\n",
       "      <td>1</td>\n",
       "      <td>{'Poppy': {'items': [], 'star': 2}, 'Mordekais...</td>\n",
       "      <td>{'Chrono': 1, 'DarkStar': 3, 'Set3_Celestial':...</td>\n",
       "    </tr>\n",
       "    <tr>\n",
       "      <th>4</th>\n",
       "      <td>1</td>\n",
       "      <td>{'Ziggs': {'items': [], 'star': 1}, 'Sona': {'...</td>\n",
       "      <td>{'Blaster': 2, 'Demolitionist': 2, 'Mercenary'...</td>\n",
       "    </tr>\n",
       "    <tr>\n",
       "      <th>...</th>\n",
       "      <td>...</td>\n",
       "      <td>...</td>\n",
       "      <td>...</td>\n",
       "    </tr>\n",
       "    <tr>\n",
       "      <th>9994</th>\n",
       "      <td>1</td>\n",
       "      <td>{'Fiora': {'items': [5], 'star': 2}, 'Leona': ...</td>\n",
       "      <td>{'Blaster': 2, 'Chrono': 2, 'Cybernetic': 6, '...</td>\n",
       "    </tr>\n",
       "    <tr>\n",
       "      <th>9995</th>\n",
       "      <td>1</td>\n",
       "      <td>{'Fiora': {'items': [27], 'star': 2}, 'Leona':...</td>\n",
       "      <td>{'Blaster': 2, 'Cybernetic': 6, 'Infiltrator':...</td>\n",
       "    </tr>\n",
       "    <tr>\n",
       "      <th>9996</th>\n",
       "      <td>1</td>\n",
       "      <td>{'Malphite': {'items': [], 'star': 2}, 'Graves...</td>\n",
       "      <td>{'Blaster': 4, 'Chrono': 2, 'Cybernetic': 2, '...</td>\n",
       "    </tr>\n",
       "    <tr>\n",
       "      <th>9997</th>\n",
       "      <td>1</td>\n",
       "      <td>{'Malphite': {'items': [], 'star': 2}, 'Graves...</td>\n",
       "      <td>{'Blaster': 4, 'Chrono': 2, 'Cybernetic': 1, '...</td>\n",
       "    </tr>\n",
       "    <tr>\n",
       "      <th>9998</th>\n",
       "      <td>1</td>\n",
       "      <td>{'TwistedFate': {'items': [13, 39, 33], 'star'...</td>\n",
       "      <td>{'Chrono': 2, 'DarkStar': 1, 'Rebel': 1, 'Set3...</td>\n",
       "    </tr>\n",
       "  </tbody>\n",
       "</table>\n",
       "<p>9999 rows × 3 columns</p>\n",
       "</div>"
      ],
      "text/plain": [
       "      Ranked                                           champion  \\\n",
       "0          1  {'Malphite': {'items': [], 'star': 2}, 'Blitzc...   \n",
       "1          1  {'KhaZix': {'items': [57], 'star': 2}, 'KaiSa'...   \n",
       "2          1  {'Zoe': {'items': [], 'star': 2}, 'Ahri': {'it...   \n",
       "3          1  {'Poppy': {'items': [], 'star': 2}, 'Mordekais...   \n",
       "4          1  {'Ziggs': {'items': [], 'star': 1}, 'Sona': {'...   \n",
       "...      ...                                                ...   \n",
       "9994       1  {'Fiora': {'items': [5], 'star': 2}, 'Leona': ...   \n",
       "9995       1  {'Fiora': {'items': [27], 'star': 2}, 'Leona':...   \n",
       "9996       1  {'Malphite': {'items': [], 'star': 2}, 'Graves...   \n",
       "9997       1  {'Malphite': {'items': [], 'star': 2}, 'Graves...   \n",
       "9998       1  {'TwistedFate': {'items': [13, 39, 33], 'star'...   \n",
       "\n",
       "                                       combination_dict  \n",
       "0     {'Blaster': 4, 'Chrono': 2, 'Cybernetic': 2, '...  \n",
       "1     {'DarkStar': 3, 'Demolitionist': 1, 'Infiltrat...  \n",
       "2     {'DarkStar': 1, 'Demolitionist': 3, 'Infiltrat...  \n",
       "3     {'Chrono': 1, 'DarkStar': 3, 'Set3_Celestial':...  \n",
       "4     {'Blaster': 2, 'Demolitionist': 2, 'Mercenary'...  \n",
       "...                                                 ...  \n",
       "9994  {'Blaster': 2, 'Chrono': 2, 'Cybernetic': 6, '...  \n",
       "9995  {'Blaster': 2, 'Cybernetic': 6, 'Infiltrator':...  \n",
       "9996  {'Blaster': 4, 'Chrono': 2, 'Cybernetic': 2, '...  \n",
       "9997  {'Blaster': 4, 'Chrono': 2, 'Cybernetic': 1, '...  \n",
       "9998  {'Chrono': 2, 'DarkStar': 1, 'Rebel': 1, 'Set3...  \n",
       "\n",
       "[9999 rows x 3 columns]"
      ]
     },
     "execution_count": null,
     "metadata": {},
     "output_type": "execute_result"
    }
   ],
   "source": [
    "df=(\n",
    "    pd.read_csv(\"../data/raw/TFT_GrandMaster_MatchData.csv\")\n",
    "    .drop([\"gameId\",\"gameDuration\",\"level\",\"lastRound\",\"ingameDuration\"], axis=\"columns\")\n",
    "    .loc[lambda x: x['Ranked']==1]\n",
    "    .reset_index()\n",
    "    .drop([\"index\"], axis=\"columns\")\n",
    "    .assign(combination_dict=lambda df:\n",
    "            df['combination'].apply(lambda x: ast.literal_eval(x)))\n",
    "    .drop([\"combination\"], axis=\"columns\")\n",
    ")\n",
    "df"
   ]
  },
  {
   "cell_type": "markdown",
   "metadata": {},
   "source": [
    "#### Step 2"
   ]
  },
  {
   "cell_type": "code",
   "execution_count": null,
   "metadata": {},
   "outputs": [],
   "source": [
    "def load_and_process(url_or_path_to_csv_file):\n",
    "\n",
    "    # Method Chain 1 (Load data and deal with missing data)\n",
    "\n",
    "    df1 = (\n",
    "        pd.read_csv(url_or_path_to_csv_file)\n",
    "        .dropna()\n",
    "        .drop([\"gameId\",\"gameDuration\",\"level\",\"lastRound\",\"ingameDuration\"], axis=\"columns\")\n",
    "        .loc[lambda x: x['Ranked']==1]\n",
    "        .reset_index()\n",
    "        .drop([\"index\"], axis=\"columns\")\n",
    "      )\n",
    "\n",
    "    # Method Chain 2 (Create new columns, drop others, and do processing)\n",
    "\n",
    "    df2 = (\n",
    "        df1\n",
    "        .assign(combination_dict=lambda df:\n",
    "            df['combination'].apply(lambda x: ast.literal_eval(x)))\n",
    "        .drop([\"combination\"], axis=\"columns\")\n",
    "      )\n",
    "\n",
    "    # Make sure to return the latest dataframe\n",
    "\n",
    "    return df2 "
   ]
  },
  {
   "cell_type": "markdown",
   "metadata": {},
   "source": [
    "#### Test function"
   ]
  },
  {
   "cell_type": "code",
   "execution_count": null,
   "metadata": {},
   "outputs": [
    {
     "data": {
      "text/html": [
       "<div>\n",
       "<style scoped>\n",
       "    .dataframe tbody tr th:only-of-type {\n",
       "        vertical-align: middle;\n",
       "    }\n",
       "\n",
       "    .dataframe tbody tr th {\n",
       "        vertical-align: top;\n",
       "    }\n",
       "\n",
       "    .dataframe thead th {\n",
       "        text-align: right;\n",
       "    }\n",
       "</style>\n",
       "<table border=\"1\" class=\"dataframe\">\n",
       "  <thead>\n",
       "    <tr style=\"text-align: right;\">\n",
       "      <th></th>\n",
       "      <th>Ranked</th>\n",
       "      <th>champion</th>\n",
       "      <th>combination_dict</th>\n",
       "    </tr>\n",
       "  </thead>\n",
       "  <tbody>\n",
       "    <tr>\n",
       "      <th>0</th>\n",
       "      <td>1</td>\n",
       "      <td>{'Malphite': {'items': [], 'star': 2}, 'Blitzc...</td>\n",
       "      <td>{'Blaster': 4, 'Chrono': 2, 'Cybernetic': 2, '...</td>\n",
       "    </tr>\n",
       "    <tr>\n",
       "      <th>1</th>\n",
       "      <td>1</td>\n",
       "      <td>{'KhaZix': {'items': [57], 'star': 2}, 'KaiSa'...</td>\n",
       "      <td>{'DarkStar': 3, 'Demolitionist': 1, 'Infiltrat...</td>\n",
       "    </tr>\n",
       "    <tr>\n",
       "      <th>2</th>\n",
       "      <td>1</td>\n",
       "      <td>{'Zoe': {'items': [], 'star': 2}, 'Ahri': {'it...</td>\n",
       "      <td>{'DarkStar': 1, 'Demolitionist': 3, 'Infiltrat...</td>\n",
       "    </tr>\n",
       "    <tr>\n",
       "      <th>3</th>\n",
       "      <td>1</td>\n",
       "      <td>{'Poppy': {'items': [], 'star': 2}, 'Mordekais...</td>\n",
       "      <td>{'Chrono': 1, 'DarkStar': 3, 'Set3_Celestial':...</td>\n",
       "    </tr>\n",
       "    <tr>\n",
       "      <th>4</th>\n",
       "      <td>1</td>\n",
       "      <td>{'Ziggs': {'items': [], 'star': 1}, 'Sona': {'...</td>\n",
       "      <td>{'Blaster': 2, 'Demolitionist': 2, 'Mercenary'...</td>\n",
       "    </tr>\n",
       "    <tr>\n",
       "      <th>...</th>\n",
       "      <td>...</td>\n",
       "      <td>...</td>\n",
       "      <td>...</td>\n",
       "    </tr>\n",
       "    <tr>\n",
       "      <th>9994</th>\n",
       "      <td>1</td>\n",
       "      <td>{'Fiora': {'items': [5], 'star': 2}, 'Leona': ...</td>\n",
       "      <td>{'Blaster': 2, 'Chrono': 2, 'Cybernetic': 6, '...</td>\n",
       "    </tr>\n",
       "    <tr>\n",
       "      <th>9995</th>\n",
       "      <td>1</td>\n",
       "      <td>{'Fiora': {'items': [27], 'star': 2}, 'Leona':...</td>\n",
       "      <td>{'Blaster': 2, 'Cybernetic': 6, 'Infiltrator':...</td>\n",
       "    </tr>\n",
       "    <tr>\n",
       "      <th>9996</th>\n",
       "      <td>1</td>\n",
       "      <td>{'Malphite': {'items': [], 'star': 2}, 'Graves...</td>\n",
       "      <td>{'Blaster': 4, 'Chrono': 2, 'Cybernetic': 2, '...</td>\n",
       "    </tr>\n",
       "    <tr>\n",
       "      <th>9997</th>\n",
       "      <td>1</td>\n",
       "      <td>{'Malphite': {'items': [], 'star': 2}, 'Graves...</td>\n",
       "      <td>{'Blaster': 4, 'Chrono': 2, 'Cybernetic': 1, '...</td>\n",
       "    </tr>\n",
       "    <tr>\n",
       "      <th>9998</th>\n",
       "      <td>1</td>\n",
       "      <td>{'TwistedFate': {'items': [13, 39, 33], 'star'...</td>\n",
       "      <td>{'Chrono': 2, 'DarkStar': 1, 'Rebel': 1, 'Set3...</td>\n",
       "    </tr>\n",
       "  </tbody>\n",
       "</table>\n",
       "<p>9999 rows × 3 columns</p>\n",
       "</div>"
      ],
      "text/plain": [
       "      Ranked                                           champion  \\\n",
       "0          1  {'Malphite': {'items': [], 'star': 2}, 'Blitzc...   \n",
       "1          1  {'KhaZix': {'items': [57], 'star': 2}, 'KaiSa'...   \n",
       "2          1  {'Zoe': {'items': [], 'star': 2}, 'Ahri': {'it...   \n",
       "3          1  {'Poppy': {'items': [], 'star': 2}, 'Mordekais...   \n",
       "4          1  {'Ziggs': {'items': [], 'star': 1}, 'Sona': {'...   \n",
       "...      ...                                                ...   \n",
       "9994       1  {'Fiora': {'items': [5], 'star': 2}, 'Leona': ...   \n",
       "9995       1  {'Fiora': {'items': [27], 'star': 2}, 'Leona':...   \n",
       "9996       1  {'Malphite': {'items': [], 'star': 2}, 'Graves...   \n",
       "9997       1  {'Malphite': {'items': [], 'star': 2}, 'Graves...   \n",
       "9998       1  {'TwistedFate': {'items': [13, 39, 33], 'star'...   \n",
       "\n",
       "                                       combination_dict  \n",
       "0     {'Blaster': 4, 'Chrono': 2, 'Cybernetic': 2, '...  \n",
       "1     {'DarkStar': 3, 'Demolitionist': 1, 'Infiltrat...  \n",
       "2     {'DarkStar': 1, 'Demolitionist': 3, 'Infiltrat...  \n",
       "3     {'Chrono': 1, 'DarkStar': 3, 'Set3_Celestial':...  \n",
       "4     {'Blaster': 2, 'Demolitionist': 2, 'Mercenary'...  \n",
       "...                                                 ...  \n",
       "9994  {'Blaster': 2, 'Chrono': 2, 'Cybernetic': 6, '...  \n",
       "9995  {'Blaster': 2, 'Cybernetic': 6, 'Infiltrator':...  \n",
       "9996  {'Blaster': 4, 'Chrono': 2, 'Cybernetic': 2, '...  \n",
       "9997  {'Blaster': 4, 'Chrono': 2, 'Cybernetic': 1, '...  \n",
       "9998  {'Chrono': 2, 'DarkStar': 1, 'Rebel': 1, 'Set3...  \n",
       "\n",
       "[9999 rows x 3 columns]"
      ]
     },
     "execution_count": null,
     "metadata": {},
     "output_type": "execute_result"
    }
   ],
   "source": [
    "load_and_process(\"../data/raw/TFT_GrandMaster_MatchData.csv\")"
   ]
  },
  {
   "cell_type": "markdown",
   "metadata": {},
   "source": [
    "## Task 4: In Group"
   ]
  },
  {
   "cell_type": "code",
   "execution_count": null,
   "metadata": {},
   "outputs": [],
   "source": []
  }
 ],
 "metadata": {
  "kernelspec": {
   "display_name": "Python 3 (ipykernel)",
   "language": "python",
   "name": "python3"
  }
 },
 "nbformat": 4,
 "nbformat_minor": 4
}
